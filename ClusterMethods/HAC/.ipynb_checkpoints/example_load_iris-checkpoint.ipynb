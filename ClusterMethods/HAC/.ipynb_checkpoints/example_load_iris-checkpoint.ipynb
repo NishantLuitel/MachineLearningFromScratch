{
 "cells": [
  {
   "cell_type": "code",
   "execution_count": 170,
   "id": "6a53ed68",
   "metadata": {},
   "outputs": [],
   "source": [
    "import numpy as np\n",
    "\n",
    "from matplotlib import pyplot as plt\n",
    "from scipy.cluster.hierarchy import dendrogram\n",
    "from sklearn.datasets import load_iris\n",
    "from sklearn.cluster import AgglomerativeClustering\n",
    "\n",
    "\n",
    "def plot_dendrogram(model, **kwargs):\n",
    "    # Create linkage matrix and then plot the dendrogram\n",
    "\n",
    "    # create the counts of samples under each node\n",
    "    counts = np.zeros(model.children_.shape[0])\n",
    "    n_samples = len(model.labels_)\n",
    "    for i, merge in enumerate(model.children_):\n",
    "        current_count = 0\n",
    "        for child_idx in merge:\n",
    "            if child_idx < n_samples:\n",
    "                current_count += 1  # leaf node\n",
    "            else:\n",
    "                current_count += counts[child_idx - n_samples]\n",
    "        counts[i] = current_count\n",
    "\n",
    "    linkage_matrix = np.column_stack(\n",
    "        [model.children_, model.distances_, counts]\n",
    "    ).astype(float)\n",
    "    print(linkage_matrix.shape)\n",
    "    # Plot the corresponding dendrogram\n",
    "    dendrogram(linkage_matrix, **kwargs)"
   ]
  },
  {
   "cell_type": "code",
   "execution_count": 171,
   "id": "99a7cf79",
   "metadata": {},
   "outputs": [
    {
     "name": "stdout",
     "output_type": "stream",
     "text": [
      "(149, 4)\n"
     ]
    },
    {
     "data": {
      "image/png": "[encoded data removed]",
      "text/plain": [
       "<Figure size 432x288 with 1 Axes>"
      ]
     },
     "metadata": {
      "needs_background": "light"
     },
     "output_type": "display_data"
    }
   ],
   "source": [
    "iris = load_iris()\n",
    "X = iris.data\n",
    "\n",
    "# setting distance_threshold=0 ensures we compute the full tree.\n",
    "model = AgglomerativeClustering(distance_threshold=0, linkage = 'single',n_clusters=None)\n",
    "\n",
    "model = model.fit(X)\n",
    "plt.title(\"Hierarchical Clustering Dendrogram\")\n",
    "# plot the top three levels of the dendrogram\n",
    "plot_dendrogram(model, truncate_mode=\"level\", p=3)\n",
    "plt.xlabel(\"Number of points in node (or index of point if no parenthesis).\")\n",
    "plt.show()"
   ]
  },
  {
   "cell_type": "code",
   "execution_count": 188,
   "id": "6f7fb6fc",
   "metadata": {},
   "outputs": [],
   "source": [
    "import numpy as np\n",
    "from copy import deepcopy\n",
    "\n",
    "class HAC:\n",
    "    def __init__(self, data):        \n",
    "        \n",
    "        self.data = data\n",
    "        self.linkage = linkage\n",
    "        self.distance_matrix = np.zeros((len(data), len(data)))\n",
    "        self.clusters = [[i] for i in range(len(data))]\n",
    "        self.cluster_history = []\n",
    "        self.cluster_history.append(deepcopy(self.clusters))\n",
    "\n",
    "    def euclidean_distance(self, point1, point2):\n",
    "        return np.sqrt(np.sum((point1 - point2)**2))\n",
    "\n",
    "    def update_distance_matrix(self, i, j):\n",
    "        for point1 in self.clusters[i]:\n",
    "            for point2 in self.clusters[j]:\n",
    "                distance = self.euclidean_distance(self.data[point1], self.data[point2])\n",
    "#                 if self.linkage == 'single':\n",
    "#                     self.distance_matrix[point1][point2] = self.distance_matrix[point2][point1] = min(self.distance_matrix[point1][point2], distance)\n",
    "#                 elif self.linkage == 'complete':\n",
    "#                     self.distance_matrix[point1][point2] = self.distance_matrix[point2][point1] = max(self.distance_matrix[point1][point2], distance)\n",
    "#                 elif self.linkage == 'average':\n",
    "#                     self.distance_matrix[point1][point2] = self.distance_matrix[point2][point1] = (self.distance_matrix[point1][point2] * self.counts[point1][point2] +\n",
    "#                                                                                                    distance) / (self.counts[point1][point2] + 1)\n",
    "#                     self.counts[point1][point2] += 1\n",
    "\n",
    "    def fit(self,linkage = 'single'):\n",
    "        for i in range(len(self.data)):\n",
    "            for j in range(i + 1, len(self.data)):\n",
    "                self.distance_matrix[i][j] = self.distance_matrix[j][i] = self.euclidean_distance(self.data[i], self.data[j])\n",
    "        self.counts = np.zeros((len(self.data), len(self.data)))\n",
    "        while len(self.clusters) > 1:\n",
    "            closest_clusters = (-1, -1, float('inf'))\n",
    "            for i, cluster1 in enumerate(self.clusters):\n",
    "                for j, cluster2 in enumerate(self.clusters[i + 1:]):\n",
    "                    j = j + i + 1\n",
    "                    \n",
    "#                     average_distance = self.distance_matrix[cluster1[0]][cluster2[0]]\n",
    "                    \n",
    "                    if linkage == 'single':\n",
    "                        average_distance = min([self.distance_matrix[m][n] for m in cluster1 for n in cluster2])\n",
    "                    elif linkage == 'complete':\n",
    "                        average_distance = max([self.distance_matrix[m][n] for m in cluster1 for n in cluster2])\n",
    "                    elif linkage == 'average':\n",
    "                        average_distance = sum([self.distance_matrix[m][n] for m in cluster1 for n in cluster2])/(len(cluster1)*len(cluster2))\n",
    "                    \n",
    "                    if average_distance < closest_clusters[2]:\n",
    "                        closest_clusters = (i, j, average_distance)\n",
    "            i, j, _ = closest_clusters\n",
    "            self.clusters[i] = self.clusters[i] + self.clusters[j]\n",
    "            self.cluster_history.append(deepcopy(self.clusters))\n",
    "            del self.clusters[j]\n",
    "            \n",
    "#             print(i,j,len(self.clusters))\n",
    "            self.update_distance_matrix(i, j-1)\n",
    "    \n",
    "    def get_clusters(self,num):\n",
    "        assert num<=len(data) and num>1,\"Number of clusters should be >1 and <= number of data points\"\n",
    "        return self.cluster_history[-(num-1)]\n",
    "\n"
   ]
  },
  {
   "cell_type": "code",
   "execution_count": 193,
   "id": "c2978bb4",
   "metadata": {},
   "outputs": [
    {
     "data": {
      "image/png": "[encoded data removed]",
      "text/plain": [
       "<Figure size 432x288 with 1 Axes>"
      ]
     },
     "metadata": {
      "needs_background": "light"
     },
     "output_type": "display_data"
    }
   ],
   "source": [
    "import matplotlib.pyplot as plt\n",
    "from scipy.cluster.hierarchy import linkage, dendrogram\n",
    "\n",
    "linkage_matrix = linkage(X, \"single\")\n",
    "\n",
    "dendrogram(linkage_matrix)\n",
    "plt.show()"
   ]
  },
  {
   "cell_type": "code",
   "execution_count": 194,
   "id": "c21d2677",
   "metadata": {},
   "outputs": [],
   "source": [
    "iris = load_iris()\n",
    "X = iris.data\n",
    "y = iris.target\n"
   ]
  },
  {
   "cell_type": "code",
   "execution_count": 195,
   "id": "eca8a7dc",
   "metadata": {},
   "outputs": [],
   "source": [
    "hac = HAC(X, linkage='single')\n",
    "\n",
    "# Fit the data to cluster\n",
    "hac.fit(linkage = 'average')"
   ]
  },
  {
   "cell_type": "code",
   "execution_count": 196,
   "id": "68dbdc3f",
   "metadata": {
    "scrolled": false
   },
   "outputs": [
    {
     "data": {
      "text/plain": [
       "3"
      ]
     },
     "execution_count": 196,
     "metadata": {},
     "output_type": "execute_result"
    }
   ],
   "source": [
    "len(hac.get_clusters(3))"
   ]
  },
  {
   "cell_type": "code",
   "execution_count": 222,
   "id": "3d79dd62",
   "metadata": {},
   "outputs": [],
   "source": [
    "cluster1 = hac.get_clusters(3)[0] \n",
    "cluster2 = hac.get_clusters(3)[1]\n",
    "cluster3 = hac.get_clusters(3)[2]"
   ]
  },
  {
   "cell_type": "code",
   "execution_count": 223,
   "id": "bee2b2f4",
   "metadata": {},
   "outputs": [],
   "source": [
    "index1 = np.array([y[idx] for idx in cluster1])\n",
    "index2 = np.array([y[idx] for idx in cluster2])\n",
    "index3 = np.array([y[idx] for idx in cluster3])"
   ]
  },
  {
   "cell_type": "code",
   "execution_count": 224,
   "id": "1ee92ceb",
   "metadata": {},
   "outputs": [
    {
     "data": {
      "text/plain": [
       "(array([0, 0, 0, 0, 0, 0, 0, 0, 0, 0, 0, 0, 0, 0, 0, 0, 0, 0, 0, 0, 0, 0,\n",
       "        0, 0, 0, 0, 0, 0, 0, 0, 0, 0, 0, 0, 0, 0, 0, 0, 0, 0, 0, 0, 0, 0,\n",
       "        0, 0, 0, 0, 0, 0]),\n",
       " array([1, 1, 1, 1, 1, 1, 1, 1, 1, 1, 1, 1, 1, 1, 1, 1, 1, 1, 1, 1, 1, 2,\n",
       "        1, 2, 2, 2, 1, 1, 2, 2, 2, 2, 2, 2, 2, 2, 2, 1, 1, 1, 1, 1, 1, 1,\n",
       "        1, 1, 1, 1, 1, 1, 1, 1, 1, 1, 1, 1, 1, 1, 1, 2, 1, 1, 1, 1, 2, 2,\n",
       "        2, 2, 2, 2, 2, 2, 2, 2, 2, 2, 2, 2, 2, 2, 2, 2, 2, 2, 2, 2, 2, 2,\n",
       "        2, 2, 2, 2, 2, 2, 2, 2, 2, 2, 2, 2]),\n",
       " array([2, 2, 2, 2, 2, 2, 2, 2, 2, 2, 2, 2, 2, 2, 2, 2, 2, 2, 2, 2, 2, 2,\n",
       "        2, 2, 2, 2, 2, 2, 2, 2, 2, 2, 2, 2, 2, 2]))"
      ]
     },
     "execution_count": 224,
     "metadata": {},
     "output_type": "execute_result"
    }
   ],
   "source": [
    "index1,index2,index3"
   ]
  },
  {
   "cell_type": "code",
   "execution_count": 225,
   "id": "2a5fab95",
   "metadata": {},
   "outputs": [
    {
     "data": {
      "text/plain": [
       "(1.0, 0.0, 0.0)"
      ]
     },
     "execution_count": 225,
     "metadata": {},
     "output_type": "execute_result"
    }
   ],
   "source": [
    "sum(index1 == 0)/len(index1),sum(index1 == 1)/len(index1),sum(index1 == 2)/len(index1)"
   ]
  },
  {
   "cell_type": "code",
   "execution_count": 226,
   "id": "ff7d2be2",
   "metadata": {},
   "outputs": [
    {
     "data": {
      "text/plain": [
       "(0.0, 0.5, 0.5)"
      ]
     },
     "execution_count": 226,
     "metadata": {},
     "output_type": "execute_result"
    }
   ],
   "source": [
    "sum(index2 == 0)/len(index2),sum(index2 == 1)/len(index2),sum(index2 == 2)/len(index2)"
   ]
  },
  {
   "cell_type": "code",
   "execution_count": 227,
   "id": "99c183f0",
   "metadata": {},
   "outputs": [
    {
     "data": {
      "text/plain": [
       "(0.0, 0.0, 1.0)"
      ]
     },
     "execution_count": 227,
     "metadata": {},
     "output_type": "execute_result"
    }
   ],
   "source": [
    "sum(index3 == 0)/len(index3),sum(index3 == 3)/len(index3),sum(index3 == 2)/len(index3)"
   ]
  },
  {
   "cell_type": "markdown",
   "id": "c75d255d",
   "metadata": {},
   "source": [
    "# Using Scikit Learn"
   ]
  },
  {
   "cell_type": "code",
   "execution_count": 200,
   "id": "7f3f5dfa",
   "metadata": {},
   "outputs": [],
   "source": [
    "from sklearn.cluster import AgglomerativeClustering"
   ]
  },
  {
   "cell_type": "code",
   "execution_count": 201,
   "id": "34833099",
   "metadata": {},
   "outputs": [],
   "source": [
    "AC = AgglomerativeClustering(n_clusters = 3,linkage = 'average')"
   ]
  },
  {
   "cell_type": "code",
   "execution_count": 202,
   "id": "5207cbc1",
   "metadata": {},
   "outputs": [],
   "source": [
    "ac = AC.fit(X)"
   ]
  },
  {
   "cell_type": "code",
   "execution_count": 203,
   "id": "2a6a2010",
   "metadata": {},
   "outputs": [
    {
     "data": {
      "text/plain": [
       "array([1, 1, 1, 1, 1, 1, 1, 1, 1, 1, 1, 1, 1, 1, 1, 1, 1, 1, 1, 1, 1, 1,\n",
       "       1, 1, 1, 1, 1, 1, 1, 1, 1, 1, 1, 1, 1, 1, 1, 1, 1, 1, 1, 1, 1, 1,\n",
       "       1, 1, 1, 1, 1, 1, 0, 0, 0, 0, 0, 0, 0, 0, 0, 0, 0, 0, 0, 0, 0, 0,\n",
       "       0, 0, 0, 0, 0, 0, 0, 0, 0, 0, 0, 0, 0, 0, 0, 0, 0, 0, 0, 0, 0, 0,\n",
       "       0, 0, 0, 0, 0, 0, 0, 0, 0, 0, 0, 0, 2, 0, 2, 2, 2, 2, 0, 2, 2, 2,\n",
       "       2, 2, 2, 0, 0, 2, 2, 2, 2, 0, 2, 0, 2, 0, 2, 2, 0, 0, 2, 2, 2, 2,\n",
       "       2, 0, 2, 2, 2, 2, 0, 2, 2, 2, 0, 2, 2, 2, 0, 2, 2, 0], dtype=int64)"
      ]
     },
     "execution_count": 203,
     "metadata": {},
     "output_type": "execute_result"
    }
   ],
   "source": [
    "ac.labels_"
   ]
  },
  {
   "cell_type": "code",
   "execution_count": 204,
   "id": "88f32ea3",
   "metadata": {},
   "outputs": [],
   "source": [
    "clusters1 = []\n",
    "clusters2 = []\n",
    "clusters3 = []\n",
    "for l in ac.labels_:\n",
    "    if l == 1:\n",
    "        clusters2.append(l)\n",
    "    elif l ==2:\n",
    "        clusters3.append(l)\n",
    "    else:\n",
    "        clusters1.append(l)"
   ]
  },
  {
   "cell_type": "code",
   "execution_count": 205,
   "id": "fdfee613",
   "metadata": {},
   "outputs": [],
   "source": [
    "index1 = np.array([y[idx] for idx in cluster1])\n",
    "index2 = np.array([y[idx] for idx in cluster2])\n",
    "index3 = np.array([y[idx] for idx in cluster3])"
   ]
  },
  {
   "cell_type": "code",
   "execution_count": 206,
   "id": "55382c23",
   "metadata": {},
   "outputs": [
    {
     "data": {
      "text/plain": [
       "(array([0, 0, 0, 0, 0, 0, 0, 0, 0, 0, 0, 0, 0, 0, 0, 0, 0, 0, 0, 0, 0, 0,\n",
       "        0, 0, 0, 0, 0, 0, 0, 0, 0, 0, 0, 0, 0, 0, 0, 0, 0, 0, 0, 0, 0, 0,\n",
       "        0, 0, 0, 0, 0, 0]),\n",
       " array([1, 1, 1, 1, 1, 1, 1, 1, 1, 1, 1, 1, 1, 1, 1, 1, 1, 1, 1, 1, 1, 2,\n",
       "        1, 2, 2, 2, 1, 1, 2, 2, 2, 2, 2, 2, 2, 2, 2, 1, 1, 1, 1, 1, 1, 1,\n",
       "        1, 1, 1, 1, 1, 1, 1, 1, 1, 1, 1, 1, 1, 1, 1, 2, 1, 1, 1, 1, 2, 2,\n",
       "        2, 2, 2, 2, 2, 2, 2, 2, 2, 2, 2, 2, 2, 2, 2, 2, 2, 2, 2, 2, 2, 2,\n",
       "        2, 2, 2, 2, 2, 2, 2, 2, 2, 2, 2, 2]),\n",
       " array([2, 2, 2, 2, 2, 2, 2, 2, 2, 2, 2, 2, 2, 2, 2, 2, 2, 2, 2, 2, 2, 2,\n",
       "        2, 2, 2, 2, 2, 2, 2, 2, 2, 2, 2, 2, 2, 2]))"
      ]
     },
     "execution_count": 206,
     "metadata": {},
     "output_type": "execute_result"
    }
   ],
   "source": [
    "index1,index2,index3"
   ]
  },
  {
   "cell_type": "code",
   "execution_count": 215,
   "id": "c7b4da81",
   "metadata": {},
   "outputs": [
    {
     "data": {
      "text/plain": [
       "(1.0, 0.0, 0.0)"
      ]
     },
     "execution_count": 215,
     "metadata": {},
     "output_type": "execute_result"
    }
   ],
   "source": [
    "sum(index1 == 0)/len(index1),sum(index1 == 1)/len(index1),sum(index1 == 2)/len(index1)"
   ]
  },
  {
   "cell_type": "code",
   "execution_count": 216,
   "id": "6358d4a3",
   "metadata": {},
   "outputs": [
    {
     "data": {
      "text/plain": [
       "(0.0, 0.5, 0.5)"
      ]
     },
     "execution_count": 216,
     "metadata": {},
     "output_type": "execute_result"
    }
   ],
   "source": [
    "sum(index2 == 0)/len(index2),sum(index2 == 1)/len(index2),sum(index2 == 2)/len(index2)"
   ]
  },
  {
   "cell_type": "code",
   "execution_count": 217,
   "id": "1b818b9f",
   "metadata": {},
   "outputs": [
    {
     "data": {
      "text/plain": [
       "(0.0, 0.0, 1.0)"
      ]
     },
     "execution_count": 217,
     "metadata": {},
     "output_type": "execute_result"
    }
   ],
   "source": [
    "sum(index3 == 0)/len(index3),sum(index3 == 3)/len(index3),sum(index3 == 2)/len(index3)"
   ]
  },
  {
   "cell_type": "code",
   "execution_count": null,
   "id": "c1cbb3e5",
   "metadata": {},
   "outputs": [],
   "source": []
  }
 ],
 "metadata": {
  "kernelspec": {
   "display_name": "Python 3 (ipykernel)",
   "language": "python",
   "name": "python3"
  },
  "language_info": {
   "codemirror_mode": {
    "name": "ipython",
    "version": 3
   },
   "file_extension": ".py",
   "mimetype": "text/x-python",
   "name": "python",
   "nbconvert_exporter": "python",
   "pygments_lexer": "ipython3",
   "version": "3.9.7"
  }
 },
 "nbformat": 4,
 "nbformat_minor": 5
}
