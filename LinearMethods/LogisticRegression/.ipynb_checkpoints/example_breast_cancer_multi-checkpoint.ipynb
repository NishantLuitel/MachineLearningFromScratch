{
 "cells": [
  {
   "cell_type": "code",
   "execution_count": 1,
   "id": "809322d4",
   "metadata": {},
   "outputs": [],
   "source": [
    "import numpy as np\n",
    "from logistic_reg import MultiLogisticRegression"
   ]
  },
  {
   "cell_type": "code",
   "execution_count": 139,
   "id": "7b396ce7",
   "metadata": {},
   "outputs": [],
   "source": [
    "class MultiLogisticRegression():\n",
    "    def __init__(self,X,y,alpha = 0.5,learning_rate = 1,no_iter = 1000,use_bias = True,centralize = True):\n",
    "        \n",
    "        if centralize ==True:\n",
    "            self.X = self._centralize(X)\n",
    "        else:\n",
    "            self.X = X\n",
    "        self.y = y\n",
    "        self._check = False\n",
    "        self.use_bias = use_bias\n",
    "        self.N = self.X.shape[0]\n",
    "        self.no_iter = no_iter\n",
    "        \n",
    "        if(len(self.y.shape) == 1):\n",
    "            self.max_index = max(self.y)\n",
    "            self.one_hots = np.zeros((self.N,self.max_index+1))\n",
    "            for i,_ in enumerate(y):\n",
    "                self.one_hots[i,_] = 1\n",
    "#             print(self.one_hots)\n",
    "        \n",
    "        \n",
    "        assert alpha>0, \"Choose the regularizer constant(alpha) > 0\"\n",
    "        self.alpha = alpha\n",
    "        assert learning_rate>0, \"Choose the regularizer constant(alpha) > 0\"\n",
    "        self.l_r = learning_rate\n",
    "       \n",
    "        \n",
    "        if self.use_bias == True:\n",
    "            temp = np.ones((self.X.shape[0],self.X.shape[1] + 1))\n",
    "            temp[:,:-1] = self.X\n",
    "            self.X = temp\n",
    "#            print(temp)\n",
    "\n",
    "    def _softmax(self,x):\n",
    "        exponential = np.exp(x)\n",
    "        sumer = exponential.sum(axis = 1,keepdims = True)\n",
    "        return exponential/sumer\n",
    "        #return (exponential.T/sumer).T\n",
    "    \n",
    "    def _centralize(self,x):\n",
    "        x = x - np.mean(x, axis=1,keepdims =True)\n",
    "        x = x/np.std(x, axis=1,keepdims = True)\n",
    "        return x\n",
    "              \n",
    "    def fit(self):  \n",
    "        \n",
    "        self.w = np.zeros((self.X.shape[1],self.max_index+1))\n",
    "        \n",
    "        \n",
    "        #Use Gradient Descent\n",
    "        for i in range(self.no_iter):\n",
    "            self._update_weights()\n",
    "#             print(i, ':',self.w)\n",
    "#             if i==100:\n",
    "#                 break\n",
    "        self._check = True\n",
    "    \n",
    "    \n",
    "    def weights(self):\n",
    "        assert (self._check == True),\"Model not fitted\"\n",
    "        \n",
    "        return self.w\n",
    "    \n",
    "    def _update_weights(self):\n",
    "                \n",
    "        #Calculate Gradient\n",
    "        output = self.X @ self.w \n",
    "        #print(output)\n",
    "        \n",
    "        self.dw = self.X.T @ (self._softmax(output)-self.one_hots)/ self.X.shape[0]\n",
    "#         print(self.dw)\n",
    "        self.w = self.w - self.l_r*self.dw\n",
    "        \n",
    "        return self.w\n",
    "              \n",
    "    def predict(self,data,probs = False,plot =False):\n",
    "        \n",
    "        if self.use_bias == True:\n",
    "            temp = np.ones((data.shape[0],data.shape[1] + 1))\n",
    "            temp[:,:-1] = data\n",
    "            data = temp \n",
    "        #print(self.w)\n",
    "        self.p = self._softmax(data @ self.w)\n",
    "        return self.p"
   ]
  },
  {
   "cell_type": "code",
   "execution_count": 140,
   "id": "0e471177",
   "metadata": {},
   "outputs": [
    {
     "data": {
      "text/plain": [
       "array([[0.00241233, 0.00655741, 0.01782488, 0.97320538],\n",
       "       [0.10499359, 0.01420934, 0.10499359, 0.77580349],\n",
       "       [0.08962882, 0.24363641, 0.66227241, 0.00446236],\n",
       "       [0.0320586 , 0.64391426, 0.23688282, 0.08714432]])"
      ]
     },
     "execution_count": 140,
     "metadata": {},
     "output_type": "execute_result"
    }
   ],
   "source": [
    "dummy = np.array([[1,2,3,7],[4,2,4,6],[7,8,9,4],[1,4,3,2]])\n",
    "y = np.array([0,1,1,0])\n",
    "\n",
    "#(np.exp(dummy).T/ np.exp(dummy).sum(axis = 1)).T\n",
    "(np.exp(dummy)/ np.exp(dummy).sum(axis = 1,keepdims = True))"
   ]
  },
  {
   "cell_type": "code",
   "execution_count": 141,
   "id": "a84f2573",
   "metadata": {},
   "outputs": [],
   "source": [
    "lr = MultiLogisticRegression(dummy,y)\n"
   ]
  },
  {
   "cell_type": "code",
   "execution_count": 142,
   "id": "08f77a4c",
   "metadata": {},
   "outputs": [],
   "source": [
    "lr.fit()"
   ]
  },
  {
   "cell_type": "code",
   "execution_count": 143,
   "id": "dd31f7fd",
   "metadata": {},
   "outputs": [
    {
     "data": {
      "text/plain": [
       "array([[9.99999970e-01, 3.04546749e-08],\n",
       "       [5.16443130e-04, 9.99483557e-01],\n",
       "       [6.09380284e-06, 9.99993906e-01],\n",
       "       [9.99996611e-01, 3.38882434e-06]])"
      ]
     },
     "execution_count": 143,
     "metadata": {},
     "output_type": "execute_result"
    }
   ],
   "source": [
    "lr.predict(dummy)"
   ]
  },
  {
   "cell_type": "code",
   "execution_count": 144,
   "id": "17eec9c8",
   "metadata": {},
   "outputs": [],
   "source": [
    "from sklearn.datasets import load_breast_cancer"
   ]
  },
  {
   "cell_type": "code",
   "execution_count": 145,
   "id": "bce10e31",
   "metadata": {},
   "outputs": [],
   "source": [
    "data = load_breast_cancer()"
   ]
  },
  {
   "cell_type": "code",
   "execution_count": 146,
   "id": "3edc21b5",
   "metadata": {},
   "outputs": [
    {
     "data": {
      "text/plain": [
       "(array([[1.799e+01, 1.038e+01, 1.228e+02, ..., 2.654e-01, 4.601e-01,\n",
       "         1.189e-01],\n",
       "        [2.057e+01, 1.777e+01, 1.329e+02, ..., 1.860e-01, 2.750e-01,\n",
       "         8.902e-02],\n",
       "        [1.969e+01, 2.125e+01, 1.300e+02, ..., 2.430e-01, 3.613e-01,\n",
       "         8.758e-02],\n",
       "        ...,\n",
       "        [1.660e+01, 2.808e+01, 1.083e+02, ..., 1.418e-01, 2.218e-01,\n",
       "         7.820e-02],\n",
       "        [2.060e+01, 2.933e+01, 1.401e+02, ..., 2.650e-01, 4.087e-01,\n",
       "         1.240e-01],\n",
       "        [7.760e+00, 2.454e+01, 4.792e+01, ..., 0.000e+00, 2.871e-01,\n",
       "         7.039e-02]]),\n",
       " array([0, 0, 0, 0, 0, 0, 0, 0, 0, 0, 0, 0, 0, 0, 0, 0, 0, 0, 0, 1, 1, 1,\n",
       "        0, 0, 0, 0, 0, 0, 0, 0, 0, 0, 0, 0, 0, 0, 0, 1, 0, 0, 0, 0, 0, 0,\n",
       "        0, 0, 1, 0, 1, 1, 1, 1, 1, 0, 0, 1, 0, 0, 1, 1, 1, 1, 0, 1, 0, 0,\n",
       "        1, 1, 1, 1, 0, 1, 0, 0, 1, 0, 1, 0, 0, 1, 1, 1, 0, 0, 1, 0, 0, 0,\n",
       "        1, 1, 1, 0, 1, 1, 0, 0, 1, 1, 1, 0, 0, 1, 1, 1, 1, 0, 1, 1, 0, 1,\n",
       "        1, 1, 1, 1, 1, 1, 1, 0, 0, 0, 1, 0, 0, 1, 1, 1, 0, 0, 1, 0, 1, 0,\n",
       "        0, 1, 0, 0, 1, 1, 0, 1, 1, 0, 1, 1, 1, 1, 0, 1, 1, 1, 1, 1, 1, 1,\n",
       "        1, 1, 0, 1, 1, 1, 1, 0, 0, 1, 0, 1, 1, 0, 0, 1, 1, 0, 0, 1, 1, 1,\n",
       "        1, 0, 1, 1, 0, 0, 0, 1, 0, 1, 0, 1, 1, 1, 0, 1, 1, 0, 0, 1, 0, 0,\n",
       "        0, 0, 1, 0, 0, 0, 1, 0, 1, 0, 1, 1, 0, 1, 0, 0, 0, 0, 1, 1, 0, 0,\n",
       "        1, 1, 1, 0, 1, 1, 1, 1, 1, 0, 0, 1, 1, 0, 1, 1, 0, 0, 1, 0, 1, 1,\n",
       "        1, 1, 0, 1, 1, 1, 1, 1, 0, 1, 0, 0, 0, 0, 0, 0, 0, 0, 0, 0, 0, 0,\n",
       "        0, 0, 1, 1, 1, 1, 1, 1, 0, 1, 0, 1, 1, 0, 1, 1, 0, 1, 0, 0, 1, 1,\n",
       "        1, 1, 1, 1, 1, 1, 1, 1, 1, 1, 1, 0, 1, 1, 0, 1, 0, 1, 1, 1, 1, 1,\n",
       "        1, 1, 1, 1, 1, 1, 1, 1, 1, 0, 1, 1, 1, 0, 1, 0, 1, 1, 1, 1, 0, 0,\n",
       "        0, 1, 1, 1, 1, 0, 1, 0, 1, 0, 1, 1, 1, 0, 1, 1, 1, 1, 1, 1, 1, 0,\n",
       "        0, 0, 1, 1, 1, 1, 1, 1, 1, 1, 1, 1, 1, 0, 0, 1, 0, 0, 0, 1, 0, 0,\n",
       "        1, 1, 1, 1, 1, 0, 1, 1, 1, 1, 1, 0, 1, 1, 1, 0, 1, 1, 0, 0, 1, 1,\n",
       "        1, 1, 1, 1, 0, 1, 1, 1, 1, 1, 1, 1, 0, 1, 1, 1, 1, 1, 0, 1, 1, 0,\n",
       "        1, 1, 1, 1, 1, 1, 1, 1, 1, 1, 1, 1, 0, 1, 0, 0, 1, 0, 1, 1, 1, 1,\n",
       "        1, 0, 1, 1, 0, 1, 0, 1, 1, 0, 1, 0, 1, 1, 1, 1, 1, 1, 1, 1, 0, 0,\n",
       "        1, 1, 1, 1, 1, 1, 0, 1, 1, 1, 1, 1, 1, 1, 1, 1, 1, 0, 1, 1, 1, 1,\n",
       "        1, 1, 1, 0, 1, 0, 1, 1, 0, 1, 1, 1, 1, 1, 0, 0, 1, 0, 1, 0, 1, 1,\n",
       "        1, 1, 1, 0, 1, 1, 0, 1, 0, 1, 0, 0, 1, 1, 1, 0, 1, 1, 1, 1, 1, 1,\n",
       "        1, 1, 1, 1, 1, 0, 1, 0, 0, 1, 1, 1, 1, 1, 1, 1, 1, 1, 1, 1, 1, 1,\n",
       "        1, 1, 1, 1, 1, 1, 1, 1, 1, 1, 1, 1, 0, 0, 0, 0, 0, 0, 1]))"
      ]
     },
     "execution_count": 146,
     "metadata": {},
     "output_type": "execute_result"
    }
   ],
   "source": [
    "data['data'],data['target']"
   ]
  },
  {
   "cell_type": "code",
   "execution_count": 147,
   "id": "4eb23fb6",
   "metadata": {},
   "outputs": [],
   "source": [
    "X_train,y_train = data['data'][:500],data['target'][:500]\n",
    "X_test,y_test = data['data'][500:],data['target'][500:]"
   ]
  },
  {
   "cell_type": "code",
   "execution_count": 149,
   "id": "9a7c7562",
   "metadata": {},
   "outputs": [],
   "source": [
    "lr = MultiLogisticRegression(X_train,y_train,no_iter = 1000, learning_rate = 0.05)\n",
    "lr.fit()"
   ]
  },
  {
   "cell_type": "code",
   "execution_count": 150,
   "id": "4625ef96",
   "metadata": {},
   "outputs": [
    {
     "name": "stderr",
     "output_type": "stream",
     "text": [
      "C:\\Users\\acer\\AppData\\Local\\Temp/ipykernel_17108/3772753535.py:35: RuntimeWarning: overflow encountered in exp\n",
      "  exponential = np.exp(x)\n",
      "C:\\Users\\acer\\AppData\\Local\\Temp/ipykernel_17108/3772753535.py:37: RuntimeWarning: invalid value encountered in true_divide\n",
      "  return exponential/sumer\n"
     ]
    },
    {
     "data": {
      "text/plain": [
       "array([[2.11525337e-053, 1.00000000e+000],\n",
       "       [8.68872630e-014, 1.00000000e+000],\n",
       "       [1.05678530e-112, 1.00000000e+000],\n",
       "       [            nan, 0.00000000e+000],\n",
       "       [4.68891893e-087, 1.00000000e+000],\n",
       "       [2.15471318e-088, 1.00000000e+000],\n",
       "       [1.35882610e-127, 1.00000000e+000],\n",
       "       [6.02470920e-124, 1.00000000e+000],\n",
       "       [7.83544338e-139, 1.00000000e+000],\n",
       "       [7.16434401e-064, 1.00000000e+000],\n",
       "       [5.10744688e-132, 1.00000000e+000],\n",
       "       [1.08215090e-145, 1.00000000e+000],\n",
       "       [1.00000000e+000, 2.10798504e-095],\n",
       "       [1.29110317e-002, 9.87088968e-001],\n",
       "       [1.00000000e+000, 6.04356353e-055],\n",
       "       [1.01536408e-079, 1.00000000e+000],\n",
       "       [1.00000000e+000, 1.65970137e-196],\n",
       "       [1.00000000e+000, 7.78233907e-147],\n",
       "       [2.26277032e-003, 9.97737230e-001],\n",
       "       [1.36078360e-055, 1.00000000e+000],\n",
       "       [5.38869436e-066, 1.00000000e+000],\n",
       "       [1.00000000e+000, 0.00000000e+000],\n",
       "       [1.76326120e-125, 1.00000000e+000],\n",
       "       [1.04679273e-073, 1.00000000e+000],\n",
       "       [1.02850516e-064, 1.00000000e+000],\n",
       "       [1.57055968e-075, 1.00000000e+000],\n",
       "       [1.34978753e-034, 1.00000000e+000],\n",
       "       [4.23531582e-089, 1.00000000e+000],\n",
       "       [7.19646513e-142, 1.00000000e+000],\n",
       "       [3.18453433e-072, 1.00000000e+000],\n",
       "       [3.80324780e-042, 1.00000000e+000],\n",
       "       [6.76354047e-041, 1.00000000e+000],\n",
       "       [8.09890362e-001, 1.90109638e-001],\n",
       "       [1.00000000e+000, 1.63625615e-063],\n",
       "       [1.27474460e-129, 1.00000000e+000],\n",
       "       [1.00000000e+000, 2.07105124e-224],\n",
       "       [1.63299277e-130, 1.00000000e+000],\n",
       "       [4.65419759e-101, 1.00000000e+000],\n",
       "       [2.76061609e-045, 1.00000000e+000],\n",
       "       [5.13754094e-064, 1.00000000e+000],\n",
       "       [6.00309765e-116, 1.00000000e+000],\n",
       "       [2.29680783e-079, 1.00000000e+000],\n",
       "       [1.56710336e-065, 1.00000000e+000],\n",
       "       [1.11791893e-115, 1.00000000e+000],\n",
       "       [8.75252472e-108, 1.00000000e+000],\n",
       "       [2.42448758e-041, 1.00000000e+000],\n",
       "       [4.92358833e-093, 1.00000000e+000],\n",
       "       [2.24431039e-122, 1.00000000e+000],\n",
       "       [4.39660190e-063, 1.00000000e+000],\n",
       "       [5.05238591e-012, 1.00000000e+000],\n",
       "       [1.48936189e-109, 1.00000000e+000],\n",
       "       [2.70539135e-112, 1.00000000e+000],\n",
       "       [1.03950650e-110, 1.00000000e+000],\n",
       "       [1.76665872e-107, 1.00000000e+000],\n",
       "       [1.16526641e-119, 1.00000000e+000],\n",
       "       [8.86916945e-125, 1.00000000e+000],\n",
       "       [7.76030088e-116, 1.00000000e+000],\n",
       "       [6.24785139e-080, 1.00000000e+000],\n",
       "       [5.33861143e-159, 1.00000000e+000],\n",
       "       [2.94756837e-110, 1.00000000e+000],\n",
       "       [8.80687661e-110, 1.00000000e+000],\n",
       "       [3.36333428e-117, 1.00000000e+000],\n",
       "       [4.29611365e-058, 1.00000000e+000],\n",
       "       [1.00000000e+000, 1.40670779e-175],\n",
       "       [1.00000000e+000, 3.54495494e-286],\n",
       "       [1.00000000e+000, 3.13842001e-202],\n",
       "       [1.00000000e+000, 1.84755571e-023],\n",
       "       [1.00000000e+000, 1.89494956e-256],\n",
       "       [6.31505406e-026, 1.00000000e+000]])"
      ]
     },
     "execution_count": 150,
     "metadata": {},
     "output_type": "execute_result"
    }
   ],
   "source": [
    "prediction = lr.predict(X_test)\n",
    "prediction\n"
   ]
  },
  {
   "cell_type": "code",
   "execution_count": 151,
   "id": "99076f00",
   "metadata": {},
   "outputs": [],
   "source": [
    "y_bool = y_test>0.5"
   ]
  },
  {
   "cell_type": "code",
   "execution_count": 153,
   "id": "4c0f1571",
   "metadata": {},
   "outputs": [],
   "source": [
    "p = prediction[:,1]>0.5"
   ]
  },
  {
   "cell_type": "code",
   "execution_count": 155,
   "id": "b20178a9",
   "metadata": {},
   "outputs": [
    {
     "data": {
      "text/plain": [
       "0.927536231884058"
      ]
     },
     "execution_count": 155,
     "metadata": {},
     "output_type": "execute_result"
    }
   ],
   "source": [
    "sum(p == y_bool)/len(p)"
   ]
  },
  {
   "cell_type": "code",
   "execution_count": null,
   "id": "38405987",
   "metadata": {},
   "outputs": [],
   "source": []
  }
 ],
 "metadata": {
  "kernelspec": {
   "display_name": "Python 3 (ipykernel)",
   "language": "python",
   "name": "python3"
  },
  "language_info": {
   "codemirror_mode": {
    "name": "ipython",
    "version": 3
   },
   "file_extension": ".py",
   "mimetype": "text/x-python",
   "name": "python",
   "nbconvert_exporter": "python",
   "pygments_lexer": "ipython3",
   "version": "3.9.7"
  }
 },
 "nbformat": 4,
 "nbformat_minor": 5
}
