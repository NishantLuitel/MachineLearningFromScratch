{
 "cells": [
  {
   "cell_type": "code",
   "execution_count": null,
   "id": "c991a55b",
   "metadata": {},
   "outputs": [],
   "source": [
    "import numpy as np"
   ]
  },
  {
   "cell_type": "code",
   "execution_count": null,
   "id": "0ae83884",
   "metadata": {},
   "outputs": [],
   "source": [
    "class LDA():\n",
    "    def __init__(self,X,y,alpha = 0.5,learning_rate = 1,no_iter = 1000,use_bias = True):\n",
    "        \n",
    "        self.X = X\n",
    "        self.y = y\n",
    "        self._check = False\n",
    "        self.use_bias = use_bias\n",
    "        self.N = self.X.shape[0]\n",
    "        self.no_iter = no_iter\n",
    "        \n",
    "        \n",
    "        assert alpha>0, \"Choose the regularizer constant(alpha) > 0\"\n",
    "        self.alpha = alpha\n",
    "        assert learning_rate>0, \"Choose the regularizer constant(alpha) > 0\"\n",
    "        self.l_r = learning_rate\n",
    "       \n",
    "        \n",
    "        if self.use_bias == True:\n",
    "            temp = np.ones((self.X.shape[0],self.X.shape[1] + 1))\n",
    "            temp[:,:-1] = self.X\n",
    "            self.X = temp\n",
    "#            print(temp)\n",
    "\n",
    "    def _logistic_function(self,x):\n",
    "        return(1/(1+np.exp(-x)))\n",
    "        \n",
    "        \n",
    "              \n",
    "    def fit(self):  \n",
    "        \n",
    "        self.w = np.zeros(self.X.shape[1])\n",
    "        \n",
    "        \n",
    "        #Use Gradient Descent\n",
    "        for i in range(self.no_iter):\n",
    "            self._update_weights()\n",
    "        self._check = True\n",
    "    \n",
    "    \n",
    "    def weights(self):\n",
    "        assert (self._check == True),\"Model not fitted\"\n",
    "        \n",
    "        return self.w\n",
    "    \n",
    "    def _update_weights(self):\n",
    "                \n",
    "        #Calculate Gradient\n",
    "        output = self.X @ self.w\n",
    "        \n",
    "        self.dw = self.X.T @ (self._logistic_function(output)-self.y)/ self.X.shape[0]\n",
    "        self.w = self.w - self.l_r*self.dw\n",
    "        \n",
    "        return self.w\n",
    "              \n",
    "    def predict(self,data,probs = False,plot =False):\n",
    "        \n",
    "        if self.use_bias == True:\n",
    "            temp = np.ones((data.shape[0],data.shape[1] + 1))\n",
    "            temp[:,:-1] = data\n",
    "            data = temp \n",
    "        self.p = self._logistic_function(data @ self.w) \n",
    "        if probs == False:\n",
    "            return (self.p>0.5).astype(float)\n",
    "        else:\n",
    "            return (self.p>0.5).astype(float) , self.p"
   ]
  }
 ],
 "metadata": {
  "kernelspec": {
   "display_name": "Python 3 (ipykernel)",
   "language": "python",
   "name": "python3"
  },
  "language_info": {
   "codemirror_mode": {
    "name": "ipython",
    "version": 3
   },
   "file_extension": ".py",
   "mimetype": "text/x-python",
   "name": "python",
   "nbconvert_exporter": "python",
   "pygments_lexer": "ipython3",
   "version": "3.9.7"
  }
 },
 "nbformat": 4,
 "nbformat_minor": 5
}
