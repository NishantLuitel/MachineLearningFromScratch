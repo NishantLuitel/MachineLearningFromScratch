{
 "cells": [
  {
   "cell_type": "code",
   "execution_count": 6,
   "id": "a16b2a65",
   "metadata": {},
   "outputs": [],
   "source": [
    "import numpy as np\n",
    "from pca import PCA\n",
    "X = np.array([[5,2,3,4],[2,6,3,8]])\n",
    "pc = PCA(X,2)"
   ]
  },
  {
   "cell_type": "code",
   "execution_count": 7,
   "id": "8e53557f",
   "metadata": {},
   "outputs": [
    {
     "data": {
      "text/plain": [
       "array([[ 3.20156212,  0.        ],\n",
       "       [-3.20156212,  0.        ]])"
      ]
     },
     "execution_count": 7,
     "metadata": {},
     "output_type": "execute_result"
    }
   ],
   "source": [
    "pc.project()"
   ]
  },
  {
   "cell_type": "code",
   "execution_count": 8,
   "id": "e61b97e3",
   "metadata": {},
   "outputs": [],
   "source": [
    "\n",
    "from sklearn.decomposition import PCA\n",
    "pca = PCA(n_components=2)\n",
    "principalComponents = pca.fit_transform(X)\n"
   ]
  },
  {
   "cell_type": "code",
   "execution_count": 9,
   "id": "e4e055e8",
   "metadata": {},
   "outputs": [
    {
     "data": {
      "text/plain": [
       "array([[ 3.20156212e+00,  1.57009246e-16],\n",
       "       [-3.20156212e+00,  1.57009246e-16]])"
      ]
     },
     "execution_count": 9,
     "metadata": {},
     "output_type": "execute_result"
    }
   ],
   "source": [
    "principalComponents"
   ]
  },
  {
   "cell_type": "code",
   "execution_count": 10,
   "id": "bf1431be",
   "metadata": {},
   "outputs": [
    {
     "data": {
      "text/plain": [
       "array([[ 3.20156212e+00, -4.44089210e-16],\n",
       "       [-3.20156212e+00,  4.44089210e-16]])"
      ]
     },
     "execution_count": 10,
     "metadata": {},
     "output_type": "execute_result"
    }
   ],
   "source": [
    "pca.transform(X)"
   ]
  },
  {
   "cell_type": "code",
   "execution_count": null,
   "id": "e1731843",
   "metadata": {},
   "outputs": [],
   "source": []
  }
 ],
 "metadata": {
  "kernelspec": {
   "display_name": "Python 3 (ipykernel)",
   "language": "python",
   "name": "python3"
  },
  "language_info": {
   "codemirror_mode": {
    "name": "ipython",
    "version": 3
   },
   "file_extension": ".py",
   "mimetype": "text/x-python",
   "name": "python",
   "nbconvert_exporter": "python",
   "pygments_lexer": "ipython3",
   "version": "3.9.7"
  }
 },
 "nbformat": 4,
 "nbformat_minor": 5
}
