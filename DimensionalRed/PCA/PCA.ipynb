{
 "cells": [
  {
   "cell_type": "code",
   "execution_count": 2,
   "id": "a16b2a65",
   "metadata": {},
   "outputs": [],
   "source": [
    "import numpy as np"
   ]
  },
  {
   "cell_type": "code",
   "execution_count": 66,
   "id": "8b662690",
   "metadata": {},
   "outputs": [],
   "source": [
    "class PCA():\n",
    "    def __init__(self,X,num_dim):\n",
    "        \n",
    "        assert num_dim<=X.shape[-1], \"Projection dimension should be less than input dimension\"\n",
    "        \n",
    "        self.X = X\n",
    "        self.d = num_dim\n",
    "    \n",
    "    def __centre_data(self):\n",
    "        \"\"\"\n",
    "        Calculate the centralized score for data\n",
    "        \"\"\"\n",
    "        \n",
    "        self.mean = np.mean(self.X,axis = 0)\n",
    "        self.cX = self.X - self.mean\n",
    "        return self.cX\n",
    "    \n",
    "\n",
    "    def project_debug(self):\n",
    "        \"\"\"\n",
    "        Compute scores\n",
    "        Output:\n",
    "        \n",
    "        scores: \n",
    "        \"\"\"\n",
    "        \n",
    "        self.cX = self.__centre_data()\n",
    "        self.cov = self.cX.T @ self.cX\n",
    "        w,v = np.linalg.eig(self.cov)\n",
    "        \n",
    "        w = np.real_if_close(w, tol=1)\n",
    "        v = np.real_if_close(v, tol=1)\n",
    "        print(w)\n",
    "        print(v)\n",
    "        list_v = [(v[:,i],w[i]) for i in range(len(w))]\n",
    "        list_v.sort(key = lambda x:x[1],reverse = True)\n",
    "        v = np.array([list(j[0]) for j in list_v]).T\n",
    "        print(v)\n",
    "        \n",
    "        self.v_reduced = v[:,:self.d]\n",
    "        print(self.cX.shape,self.v_reduced.shape)\n",
    "        self.scores = self.cX @self.v_reduced\n",
    "        return self.scores\n",
    "    \n",
    "    def project(self):\n",
    "        \"\"\"\n",
    "        Compute scores\n",
    "        Output:\n",
    "\n",
    "        scores: \n",
    "        \"\"\"\n",
    "\n",
    "        self.cX = self.__centre_data()\n",
    "        self.cov = self.cX.T @ self.cX\n",
    "        w,v = np.linalg.eig(self.cov)\n",
    "\n",
    "        w = np.real_if_close(w, tol=1)\n",
    "        v = np.real_if_close(v, tol=1)\n",
    "        list_v = [(v[:,i],w[i]) for i in range(len(w))]\n",
    "        list_v.sort(key = lambda x:x[1],reverse = True)\n",
    "        v = np.array([list(j[0]) for j in list_v]).T\n",
    "\n",
    "        self.v_reduced = v[:,:self.d]\n",
    "        self.scores = self.cX @self.v_reduced\n",
    "        return self.scores"
   ]
  },
  {
   "cell_type": "code",
   "execution_count": 67,
   "id": "4be840b8",
   "metadata": {},
   "outputs": [],
   "source": [
    "X = np.array([[5,2,3,4],[2,6,3,8]])\n",
    "pc = PCA(X,2)"
   ]
  },
  {
   "cell_type": "code",
   "execution_count": 68,
   "id": "8e53557f",
   "metadata": {},
   "outputs": [
    {
     "data": {
      "text/plain": [
       "array([[ 3.20156212,  0.        ],\n",
       "       [-3.20156212,  0.        ]])"
      ]
     },
     "execution_count": 68,
     "metadata": {},
     "output_type": "execute_result"
    }
   ],
   "source": [
    "pc.project()"
   ]
  },
  {
   "cell_type": "code",
   "execution_count": 69,
   "id": "e61b97e3",
   "metadata": {},
   "outputs": [],
   "source": [
    "\n",
    "from sklearn.decomposition import PCA\n",
    "pca = PCA(n_components=2)\n",
    "principalComponents = pca.fit_transform(X)\n"
   ]
  },
  {
   "cell_type": "code",
   "execution_count": 70,
   "id": "e4e055e8",
   "metadata": {},
   "outputs": [
    {
     "data": {
      "text/plain": [
       "array([[ 3.20156212e+00,  1.57009246e-16],\n",
       "       [-3.20156212e+00,  1.57009246e-16]])"
      ]
     },
     "execution_count": 70,
     "metadata": {},
     "output_type": "execute_result"
    }
   ],
   "source": [
    "principalComponents"
   ]
  },
  {
   "cell_type": "code",
   "execution_count": 71,
   "id": "bf1431be",
   "metadata": {},
   "outputs": [
    {
     "data": {
      "text/plain": [
       "array([[ 3.20156212e+00, -4.44089210e-16],\n",
       "       [-3.20156212e+00,  4.44089210e-16]])"
      ]
     },
     "execution_count": 71,
     "metadata": {},
     "output_type": "execute_result"
    }
   ],
   "source": [
    "pca.transform(X)"
   ]
  },
  {
   "cell_type": "code",
   "execution_count": null,
   "id": "e1731843",
   "metadata": {},
   "outputs": [],
   "source": []
  }
 ],
 "metadata": {
  "kernelspec": {
   "display_name": "Python 3 (ipykernel)",
   "language": "python",
   "name": "python3"
  },
  "language_info": {
   "codemirror_mode": {
    "name": "ipython",
    "version": 3
   },
   "file_extension": ".py",
   "mimetype": "text/x-python",
   "name": "python",
   "nbconvert_exporter": "python",
   "pygments_lexer": "ipython3",
   "version": "3.9.7"
  }
 },
 "nbformat": 4,
 "nbformat_minor": 5
}
