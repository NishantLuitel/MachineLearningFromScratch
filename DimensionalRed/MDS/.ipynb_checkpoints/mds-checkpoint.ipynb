{
 "cells": [
  {
   "cell_type": "code",
   "execution_count": 57,
   "id": "9e5740cb",
   "metadata": {},
   "outputs": [],
   "source": [
    "import numpy as np"
   ]
  },
  {
   "cell_type": "code",
   "execution_count": 102,
   "id": "8e603e6d",
   "metadata": {},
   "outputs": [
    {
     "data": {
      "text/plain": [
       "array([[ 0,  0,  0],\n",
       "       [ 1,  4,  4],\n",
       "       [16,  4,  1]], dtype=int32)"
      ]
     },
     "execution_count": 102,
     "metadata": {},
     "output_type": "execute_result"
    }
   ],
   "source": [
    "x = np.array([[1,2,3],[2,4,5],[5,4,2]])\n",
    "(x - x[0,:])**2"
   ]
  },
  {
   "cell_type": "code",
   "execution_count": 103,
   "id": "e43e4542",
   "metadata": {},
   "outputs": [],
   "source": [
    "class MDS():\n",
    "    def __init__(self,X,num_dim):\n",
    "        \n",
    "        assert num_dim<=X.shape[-1], \"Projection dimension should be less than input dimension\"\n",
    "        \n",
    "        self.X = X\n",
    "        self.d = num_dim\n",
    "    \n",
    "    def __centre_data(self):\n",
    "        \"\"\"\n",
    "        Calculate the centralized score for data\n",
    "        \"\"\"\n",
    "        \n",
    "        self.mean = np.mean(self.X,axis = 0)\n",
    "        self.cX = self.X - self.mean\n",
    "        return self.cX\n",
    "    \n",
    "    def __eu_dissimilarity(self):\n",
    "        \"\"\"\n",
    "        Using Euclidean distance \n",
    "        \"\"\"\n",
    "        self.X = self.__centre_data()\n",
    "        \n",
    "        X1 = np.zeros_like(self.X[0,:])\n",
    "        num_points = self.X.shape[0]\n",
    "        self.dis = np.zeros((num_points,num_points))\n",
    "        diffed = self.X - X1\n",
    "        \n",
    "        for i in range(self.X.shape[0]):\n",
    "            for j in range(self.X.shape[0]):\n",
    "                diff = self.X[i,:]-self.X[j,:]\n",
    "                self.dis[i,j] = np.dot(diffed[i,:],diffed[i,:]) + np.dot(diffed[j,:],diffed[j,:]) - np.dot(diff,diff)\n",
    "\n",
    "        return self.dis\n",
    "    \n",
    "\n",
    "    def project_debug(self):\n",
    "        \"\"\"\n",
    "        Compute scores\n",
    "        Output:\n",
    "        \n",
    "        scores: \n",
    "        \"\"\"\n",
    "        \n",
    "        self.cX = self.__centre_data()\n",
    "        self.cov = self.cX.T @ self.cX\n",
    "        w,v = np.linalg.eig(self.cov)\n",
    "        \n",
    "        w = np.real_if_close(w, tol=1)\n",
    "        v = np.real_if_close(v, tol=1)\n",
    "        print(w)\n",
    "        print(v)\n",
    "        list_v = [(v[:,i],w[i]) for i in range(len(w))]\n",
    "        list_v.sort(key = lambda x:x[1],reverse = True)\n",
    "        v = np.array([list(j[0]) for j in list_v]).T\n",
    "        print(v)\n",
    "        \n",
    "        self.v_reduced = v[:,:self.d]\n",
    "        print(self.cX.shape,self.v_reduced.shape)\n",
    "        self.scores = self.cX @self.v_reduced\n",
    "        return self.scores\n",
    "    \n",
    "    def project(self,metric='euclidean'):\n",
    "        \"\"\"\n",
    "        Compute scores\n",
    "        Output:\n",
    "\n",
    "        scores: \n",
    "        \"\"\"\n",
    "        if metric == 'euclidean':\n",
    "            self.gram = self.__eu_dissimilarity()\n",
    "            print(self.gram)\n",
    "        w,v = np.linalg.eig(self.gram)\n",
    "        print(w)\n",
    "        w = np.real_if_close(w, tol=1)\n",
    "        v = np.real_if_close(v, tol=1)\n",
    "        \n",
    "        \n",
    "        list_v = [(v[:,i],w[i]) for i in range(len(w))]\n",
    "        list_v.sort(key = lambda x:x[1],reverse = True)\n",
    "        v = np.array([list(j[0]) for j in list_v]).T\n",
    "        w_ordered = np.sort(w)[::-1]\n",
    "        print(w_ordered)\n",
    "        \n",
    "        self.emb = v[:,:self.d] @ np.sqrt(np.diag(w_ordered[:self.d]))\n",
    "\n",
    "        return self.emb"
   ]
  },
  {
   "cell_type": "code",
   "execution_count": 104,
   "id": "f40d6e15",
   "metadata": {},
   "outputs": [
    {
     "data": {
      "text/plain": [
       "array([[1.        , 0.        , 0.        ],\n",
       "       [0.        , 1.41421356, 0.        ],\n",
       "       [0.        , 0.        , 2.        ]])"
      ]
     },
     "execution_count": 104,
     "metadata": {},
     "output_type": "execute_result"
    }
   ],
   "source": [
    "np.sqrt(np.diag(np.array([1,2,4])))"
   ]
  },
  {
   "cell_type": "code",
   "execution_count": 105,
   "id": "98c56857",
   "metadata": {},
   "outputs": [],
   "source": [
    "mds = MDS(x,2)"
   ]
  },
  {
   "cell_type": "code",
   "execution_count": 106,
   "id": "0829f630",
   "metadata": {},
   "outputs": [
    {
     "name": "stdout",
     "output_type": "stream",
     "text": [
      "[[ 9.33333333 -0.66666667 -8.66666667]\n",
      " [-0.66666667  7.33333333 -6.66666667]\n",
      " [-8.66666667 -6.66666667 15.33333333]]\n",
      "[2.32111026e+01 8.78889745e+00 7.14645914e-16]\n",
      "[2.32111026e+01 8.78889745e+00 7.14645914e-16]\n"
     ]
    },
    {
     "data": {
      "text/plain": [
       "array([[-2.36456486,  1.93446797],\n",
       "       [-1.54024875, -2.22732286],\n",
       "       [ 3.90481361,  0.29285489]])"
      ]
     },
     "execution_count": 106,
     "metadata": {},
     "output_type": "execute_result"
    }
   ],
   "source": [
    "mds.project()"
   ]
  },
  {
   "cell_type": "code",
   "execution_count": 108,
   "id": "4c059502",
   "metadata": {},
   "outputs": [
    {
     "name": "stderr",
     "output_type": "stream",
     "text": [
      "C:\\Users\\acer\\anaconda3\\lib\\site-packages\\sklearn\\manifold\\_mds.py:441: UserWarning: The MDS API has changed. ``fit`` now constructs an dissimilarity matrix from data. To use a custom dissimilarity matrix, set ``dissimilarity='precomputed'``.\n",
      "  warnings.warn(\"The MDS API has changed. ``fit`` now constructs an\"\n"
     ]
    },
    {
     "data": {
      "text/plain": [
       "array([[ 1.02725228, -1.89684069],\n",
       "       [ 1.60716581,  1.05886798],\n",
       "       [-2.63441808,  0.83797271]])"
      ]
     },
     "execution_count": 108,
     "metadata": {},
     "output_type": "execute_result"
    }
   ],
   "source": [
    "from sklearn.manifold import MDS\n",
    "embedding = MDS(n_components=2)\n",
    "X_transformed = embedding.fit_transform(x)\n",
    "X_transformed"
   ]
  },
  {
   "cell_type": "code",
   "execution_count": null,
   "id": "bc3fbe38",
   "metadata": {},
   "outputs": [],
   "source": []
  },
  {
   "cell_type": "code",
   "execution_count": null,
   "id": "657a0095",
   "metadata": {},
   "outputs": [],
   "source": []
  }
 ],
 "metadata": {
  "kernelspec": {
   "display_name": "Python 3 (ipykernel)",
   "language": "python",
   "name": "python3"
  },
  "language_info": {
   "codemirror_mode": {
    "name": "ipython",
    "version": 3
   },
   "file_extension": ".py",
   "mimetype": "text/x-python",
   "name": "python",
   "nbconvert_exporter": "python",
   "pygments_lexer": "ipython3",
   "version": "3.9.7"
  }
 },
 "nbformat": 4,
 "nbformat_minor": 5
}
