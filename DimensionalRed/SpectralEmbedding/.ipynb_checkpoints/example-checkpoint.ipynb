{
 "cells": [
  {
   "cell_type": "code",
   "execution_count": 1,
   "id": "0efaeb4f",
   "metadata": {},
   "outputs": [],
   "source": [
    "import numpy\n",
    "import sys\n",
    "sys.path.insert(0, '../Isomap/')\n",
    "\n",
    "from manifold import KNNgraph\n",
    "from scipy.spatial.distance import cdist\n",
    "from sklearn.utils.graph_shortest_path import graph_shortest_path"
   ]
  },
  {
   "cell_type": "code",
   "execution_count": 402,
   "id": "a0988c0a",
   "metadata": {},
   "outputs": [],
   "source": [
    "class SpectralEmb():\n",
    "    \n",
    "    \n",
    "    def __init__(self,X,num_dim=2,k = 5,dist_func = 'euclidean',eps = None):\n",
    "        self.X = X\n",
    "        self.d = num_dim\n",
    "        self.k = k #K-neighbours\n",
    "        self.metric = dist_func\n",
    "        \n",
    "        if eps!=None:\n",
    "            self.distance_matrix = self._make_adjacency_eps(eps = eps)\n",
    "        else:\n",
    "            self.distance_matrix = self._make_adjacency_knn()\n",
    "        #print(self.distance_matrix)\n",
    "        \n",
    "        \n",
    "    \n",
    "    \n",
    "    def _make_adjacency_eps(self, eps=1):\n",
    "        \n",
    "        \n",
    "        \"\"\"\n",
    "        Step one of ISOMAP algorithm, make Adjacency and distance matrix\n",
    "        Compute the WEIGHTED adjacency matrix A from the given data points.  Points\n",
    "        are considered neighbors if they are within epsilon of each other.  Distance\n",
    "        between points will be calculated using SciPy's cdist which will\n",
    "        compute the D matrix for us. \n",
    "        INPUT\n",
    "        ------\n",
    "         data - (ndarray) the dataset which should be a numpy array\n",
    "         dist_func - (str) the distance metric to use. See SciPy cdist for list of\n",
    "                     options\n",
    "         eps - (int/float) epsilon value to define the local region. I.e. two points\n",
    "                           are connected if they are within epsilon of each other.\n",
    "        OUTPUT\n",
    "        ------\n",
    "         short - (ndarray) Distance matrix, the shortest path from every point to\n",
    "             every other point in the set, INF if not reachable. \n",
    "        \"\"\"\n",
    "    \n",
    "        n, d = self.X.shape\n",
    "        dist = cdist(self.X,self.X, metric=self.metric)\n",
    "        adj =  np.zeros((n, n)) + np.inf\n",
    "        bln = dist < eps\n",
    "        print(bln)\n",
    "        adj[bln] = dist[bln]\n",
    "        print(adj)\n",
    "        short = graph_shortest_path(adj)\n",
    "        print(short)\n",
    "\n",
    "        return short\n",
    "    \n",
    "    def _make_adjacency_knn(self):\n",
    "    \n",
    "        knn_graph = KNNgraph(self.X,self.k,dist_metric = self.metric)\n",
    "        partial_adj = knn_graph.create_graph()\n",
    "        \n",
    "        m = knn_graph.create_graph()\n",
    "        n = m.T\n",
    "        partial_adj[m == 0] = n[m == 0]\n",
    "        dis_adj = partial_adj\n",
    "#         dis_adj = np.exp(1/40 * dis_adj**2)\n",
    "#         dis_adj = np.reciprocal(dis_adj,where=dis_adj!=0)\n",
    "\n",
    "        \n",
    "        return dis_adj\n",
    "    \n",
    "    def adjacency_matrix(self):\n",
    "        dis_adj = self._make_adjacency_knn()\n",
    "        dis_adj[dis_adj>0] = 1\n",
    "        return dis_adj\n",
    "        return self._make_adjacency_knn()\n",
    "    \n",
    "    def degree_matrix(self):\n",
    "        degrees = self.adjacency_matrix().sum(axis = 1)\n",
    "        D = np.diag(degrees)\n",
    "        return D\n",
    "    \n",
    "    def laplacian_matrix(self):\n",
    "        L = self.adjacency_matrix() - self.degree_matrix()\n",
    "        return L\n",
    "\n",
    "\n",
    "\n",
    "    def project(self,normalization = True):\n",
    "\n",
    "\n",
    "        \"\"\"\n",
    "        take an adjacency matrix and distance matrix and compute the ISOMAP\n",
    "        algorithm\n",
    "\n",
    "        Take the shortest path distance matrix. This follows from the algorithm in\n",
    "        class, create a centering matrix and apply it to the distance matrix D. Then\n",
    "        we can compute the C matrix which will be used for the eigen-decomposion\n",
    "        Find out more \n",
    "\n",
    "        INPUT\n",
    "        ------\n",
    "          d - (ndarray) Distance matrix between nodes. Should be square.\n",
    "          dim - (int) how many dimensions to reduce down too\n",
    "\n",
    "        OUTPUT\n",
    "        ------\n",
    "          z - (ndarray) data projection into new reduced space. Each row maps back\n",
    "              to one of the origional datapoints\n",
    "        \"\"\"\n",
    "    \n",
    "    \n",
    "        L = self.laplacian_matrix()\n",
    "        \n",
    "        if normalization:\n",
    "            D = self.degree_matrix()\n",
    "            self.D_1_2 = np.linalg.inv(D)**1/2\n",
    "            L_normalized = self.D_1_2 @ L @ self.D_1_2\n",
    "            L = L_normalized\n",
    "        \n",
    "        w,v = np.linalg.eig(L)\n",
    "        print(w)\n",
    "        \n",
    "        k = np.array([x for _, x in sorted(zip(w, v.T), key=lambda pair: pair[0],reverse= True)]).T\n",
    "        \n",
    "        if normalization:\n",
    "            k = self.D_1_2 @ k\n",
    "        \n",
    "        embeddings = k[:,1:self.d +1]\n",
    "        return embeddings,k\n",
    "        \n",
    "        \n",
    "        \n",
    "        \n",
    "#         if technique == 'mds':\n",
    "#             mds = MDS(self.X,self.d,G=-0.5*self.distance_matrix**2)\n",
    "#             proj = mds.project()\n",
    "            \n",
    "#         elif technique == 'kpca':\n",
    "#             kpca = KPCA(None,None,self.d,G =-0.5*self.distance_matrix**2 )\n",
    "#             proj = kpca.project()\n",
    "#             proj = proj.T\n",
    "\n",
    "#         return proj"
   ]
  },
  {
   "cell_type": "code",
   "execution_count": 403,
   "id": "7aa33ce1",
   "metadata": {},
   "outputs": [],
   "source": [
    "import numpy as np\n",
    "X = np.array([[1,2],[7,8],[5,6],[3,4]])\n",
    "\n",
    "knn = KNNgraph(X,2)\n",
    "#knn.find_neighbours()\n",
    "m = knn.create_graph()"
   ]
  },
  {
   "cell_type": "code",
   "execution_count": 404,
   "id": "d3314d8a",
   "metadata": {},
   "outputs": [],
   "source": [
    "m[m>0] = 1"
   ]
  },
  {
   "cell_type": "code",
   "execution_count": 405,
   "id": "1e9a5f95",
   "metadata": {},
   "outputs": [
    {
     "data": {
      "text/plain": [
       "array([[0., 0., 1., 1.],\n",
       "       [0., 0., 1., 1.],\n",
       "       [0., 1., 0., 1.],\n",
       "       [1., 0., 1., 0.]])"
      ]
     },
     "execution_count": 405,
     "metadata": {},
     "output_type": "execute_result"
    }
   ],
   "source": [
    "m"
   ]
  },
  {
   "cell_type": "code",
   "execution_count": null,
   "id": "0de77272",
   "metadata": {},
   "outputs": [],
   "source": []
  },
  {
   "cell_type": "code",
   "execution_count": 406,
   "id": "2834165e",
   "metadata": {},
   "outputs": [],
   "source": [
    "degrees = m.sum(axis = 1)"
   ]
  },
  {
   "cell_type": "code",
   "execution_count": 407,
   "id": "d742481d",
   "metadata": {},
   "outputs": [],
   "source": [
    "D = np.diag(degrees)"
   ]
  },
  {
   "cell_type": "code",
   "execution_count": 408,
   "id": "c63adede",
   "metadata": {},
   "outputs": [],
   "source": [
    "L = D-m"
   ]
  },
  {
   "cell_type": "code",
   "execution_count": 409,
   "id": "a5088769",
   "metadata": {},
   "outputs": [
    {
     "data": {
      "text/plain": [
       "array([[ 2.,  0., -1., -1.],\n",
       "       [ 0.,  2., -1., -1.],\n",
       "       [ 0., -1.,  2., -1.],\n",
       "       [-1.,  0., -1.,  2.]])"
      ]
     },
     "execution_count": 409,
     "metadata": {},
     "output_type": "execute_result"
    }
   ],
   "source": [
    "L"
   ]
  },
  {
   "cell_type": "code",
   "execution_count": null,
   "id": "a745d1bb",
   "metadata": {},
   "outputs": [],
   "source": []
  },
  {
   "cell_type": "code",
   "execution_count": 410,
   "id": "006f47b7",
   "metadata": {},
   "outputs": [],
   "source": [
    "from sklearn.datasets import load_digits\n",
    "digits = load_digits()\n",
    "\n",
    "\n",
    "X,y = digits['data'], digits['target']"
   ]
  },
  {
   "cell_type": "code",
   "execution_count": 411,
   "id": "038bc217",
   "metadata": {},
   "outputs": [],
   "source": [
    "im = SpectralEmb(X,num_dim = 2,k = 10)"
   ]
  },
  {
   "cell_type": "code",
   "execution_count": 412,
   "id": "bbbbc549",
   "metadata": {},
   "outputs": [
    {
     "name": "stdout",
     "output_type": "stream",
     "text": [
      "[-5.89534931e-19 -4.32084705e-05 -1.03404469e-04 ... -1.93260316e-02\n",
      " -1.95065350e-02 -1.93242477e-02]\n"
     ]
    }
   ],
   "source": [
    "e,k = im.project(normalization = True)"
   ]
  },
  {
   "cell_type": "code",
   "execution_count": 413,
   "id": "e54f8a2d",
   "metadata": {},
   "outputs": [
    {
     "data": {
      "text/plain": [
       "(1797, 2)"
      ]
     },
     "execution_count": 413,
     "metadata": {},
     "output_type": "execute_result"
    }
   ],
   "source": [
    "e.shape"
   ]
  },
  {
   "cell_type": "code",
   "execution_count": 414,
   "id": "70c91531",
   "metadata": {},
   "outputs": [
    {
     "data": {
      "text/plain": [
       "array([[-3.13891405e-02, -8.71798271e-02,  1.17146050e-02, ...,\n",
       "         3.90393278e-04,  3.47138456e-05,  1.11335606e-05],\n",
       "       [-1.98247203e-02,  8.59582663e-03,  5.51567940e-03, ...,\n",
       "         2.97102272e-03,  3.33557389e-03, -1.54491589e-02],\n",
       "       [-1.98247203e-02,  7.96311283e-03,  6.80164378e-03, ...,\n",
       "        -1.91169767e-02, -4.00799780e-02, -3.28817314e-03],\n",
       "       ...,\n",
       "       [-1.81726603e-02,  8.30056049e-03,  5.48153501e-03, ...,\n",
       "         3.75722036e-04,  5.72759830e-03,  3.59219965e-03],\n",
       "       [-2.14767804e-02,  1.05043753e-02,  7.39338237e-03, ...,\n",
       "        -2.23009861e-03,  2.16274062e-04, -1.93231980e-03],\n",
       "       [-1.81726603e-02,  8.42262867e-03,  6.22980400e-03, ...,\n",
       "        -2.16631971e-03, -1.38281453e-02, -1.54429089e-03]])"
      ]
     },
     "execution_count": 414,
     "metadata": {},
     "output_type": "execute_result"
    }
   ],
   "source": [
    "k"
   ]
  },
  {
   "cell_type": "code",
   "execution_count": 415,
   "id": "f0603139",
   "metadata": {},
   "outputs": [
    {
     "data": {
      "text/plain": [
       "array([[19.,  0.,  0., ...,  0.,  0.,  0.],\n",
       "       [ 0., 12.,  0., ...,  0.,  0.,  0.],\n",
       "       [ 0.,  0., 12., ...,  0.,  0.,  0.],\n",
       "       ...,\n",
       "       [ 0.,  0.,  0., ..., 11.,  0.,  0.],\n",
       "       [ 0.,  0.,  0., ...,  0., 13.,  0.],\n",
       "       [ 0.,  0.,  0., ...,  0.,  0., 11.]])"
      ]
     },
     "execution_count": 415,
     "metadata": {},
     "output_type": "execute_result"
    }
   ],
   "source": [
    "im.degree_matrix()"
   ]
  },
  {
   "cell_type": "code",
   "execution_count": 416,
   "id": "c305c491",
   "metadata": {},
   "outputs": [
    {
     "data": {
      "text/plain": [
       "array([[-19.,   0.,   0., ...,   0.,   0.,   0.],\n",
       "       [  0., -12.,   0., ...,   0.,   0.,   0.],\n",
       "       [  0.,   0., -12., ...,   0.,   0.,   0.],\n",
       "       ...,\n",
       "       [  0.,   0.,   0., ..., -11.,   0.,   1.],\n",
       "       [  0.,   0.,   0., ...,   0., -13.,   0.],\n",
       "       [  0.,   0.,   0., ...,   1.,   0., -11.]])"
      ]
     },
     "execution_count": 416,
     "metadata": {},
     "output_type": "execute_result"
    }
   ],
   "source": [
    "im.laplacian_matrix()"
   ]
  },
  {
   "cell_type": "code",
   "execution_count": 417,
   "id": "4562a227",
   "metadata": {},
   "outputs": [
    {
     "data": {
      "text/plain": [
       "(1797, 1797)"
      ]
     },
     "execution_count": 417,
     "metadata": {},
     "output_type": "execute_result"
    }
   ],
   "source": [
    "im.adjacency_matrix().shape"
   ]
  },
  {
   "cell_type": "code",
   "execution_count": 418,
   "id": "a0039217",
   "metadata": {},
   "outputs": [
    {
     "data": {
      "text/plain": [
       "array([[0.02631579, 0.        , 0.        , ..., 0.        , 0.        ,\n",
       "        0.        ],\n",
       "       [0.        , 0.04166667, 0.        , ..., 0.        , 0.        ,\n",
       "        0.        ],\n",
       "       [0.        , 0.        , 0.04166667, ..., 0.        , 0.        ,\n",
       "        0.        ],\n",
       "       ...,\n",
       "       [0.        , 0.        , 0.        , ..., 0.04545455, 0.        ,\n",
       "        0.        ],\n",
       "       [0.        , 0.        , 0.        , ..., 0.        , 0.03846154,\n",
       "        0.        ],\n",
       "       [0.        , 0.        , 0.        , ..., 0.        , 0.        ,\n",
       "        0.04545455]])"
      ]
     },
     "execution_count": 418,
     "metadata": {},
     "output_type": "execute_result"
    }
   ],
   "source": [
    "np.linalg.inv(im.degree_matrix())**1/2"
   ]
  },
  {
   "cell_type": "code",
   "execution_count": 419,
   "id": "d35fda31",
   "metadata": {},
   "outputs": [],
   "source": [
    "w,v = np.linalg.eig(X[:2,:2])"
   ]
  },
  {
   "cell_type": "code",
   "execution_count": 420,
   "id": "c9889a1b",
   "metadata": {},
   "outputs": [
    {
     "data": {
      "text/plain": [
       "array([[1., 0.],\n",
       "       [0., 1.]])"
      ]
     },
     "execution_count": 420,
     "metadata": {},
     "output_type": "execute_result"
    }
   ],
   "source": [
    "v"
   ]
  },
  {
   "cell_type": "code",
   "execution_count": 421,
   "id": "62bc31ac",
   "metadata": {},
   "outputs": [],
   "source": [
    "w = np.array([0,5,4,2])\n",
    "v = np.array([[1,2,3,4],[4,5,6,7],[7,8,9,10],[10,11,12,13]])"
   ]
  },
  {
   "cell_type": "code",
   "execution_count": 422,
   "id": "e0676112",
   "metadata": {},
   "outputs": [
    {
     "data": {
      "text/plain": [
       "array([0, 3, 2, 1], dtype=int64)"
      ]
     },
     "execution_count": 422,
     "metadata": {},
     "output_type": "execute_result"
    }
   ],
   "source": [
    "np.argsort(w)"
   ]
  },
  {
   "cell_type": "code",
   "execution_count": 423,
   "id": "bf790bb5",
   "metadata": {},
   "outputs": [
    {
     "name": "stdout",
     "output_type": "stream",
     "text": [
      "Help on built-in function sorted in module builtins:\n",
      "\n",
      "sorted(iterable, /, *, key=None, reverse=False)\n",
      "    Return a new list containing all items from the iterable in ascending order.\n",
      "    \n",
      "    A custom key function can be supplied to customize the sort order, and the\n",
      "    reverse flag can be set to request the result in descending order.\n",
      "\n"
     ]
    }
   ],
   "source": [
    "help(sorted)"
   ]
  },
  {
   "cell_type": "code",
   "execution_count": 424,
   "id": "4f6af0c4",
   "metadata": {},
   "outputs": [],
   "source": [
    " k = np.array([x for _, x in sorted(zip(w, v.T), key=lambda pair: pair[0])])"
   ]
  },
  {
   "cell_type": "code",
   "execution_count": 425,
   "id": "05889200",
   "metadata": {},
   "outputs": [
    {
     "data": {
      "text/plain": [
       "array([[ 1,  4,  3,  2],\n",
       "       [ 4,  7,  6,  5],\n",
       "       [ 7, 10,  9,  8],\n",
       "       [10, 13, 12, 11]])"
      ]
     },
     "execution_count": 425,
     "metadata": {},
     "output_type": "execute_result"
    }
   ],
   "source": [
    "k.T"
   ]
  },
  {
   "cell_type": "code",
   "execution_count": 426,
   "id": "9b935e73",
   "metadata": {},
   "outputs": [
    {
     "data": {
      "text/plain": [
       "1797"
      ]
     },
     "execution_count": 426,
     "metadata": {},
     "output_type": "execute_result"
    }
   ],
   "source": [
    "len(X_im)"
   ]
  },
  {
   "cell_type": "code",
   "execution_count": 427,
   "id": "98245ab5",
   "metadata": {},
   "outputs": [
    {
     "name": "stdout",
     "output_type": "stream",
     "text": [
      "[-5.89534931e-19 -4.32084705e-05 -1.03404469e-04 ... -1.93260316e-02\n",
      " -1.95065350e-02 -1.93242477e-02]\n"
     ]
    }
   ],
   "source": [
    "colors = []\n",
    "X_im,_ = im.project(normalization = True)\n",
    "X_ = []\n",
    "X_t = []\n",
    "y_ = []\n",
    "for i in range(len(y)):\n",
    "    if y[i] == 1:\n",
    "        X_.append(X_im[i])\n",
    "        y_.append(1)\n",
    "        colors.append('#FFB300')\n",
    "    elif y[i] == 2:\n",
    "        X_.append(X_im[i])\n",
    "        y_.append(2)\n",
    "        colors.append('#E64A19')\n"
   ]
  },
  {
   "cell_type": "code",
   "execution_count": 428,
   "id": "022c7ca5",
   "metadata": {},
   "outputs": [
    {
     "data": {
      "text/plain": [
       "array([[-0.08717983,  0.0117146 ],\n",
       "       [ 0.00859583,  0.00551568],\n",
       "       [ 0.00796311,  0.00680164],\n",
       "       ...,\n",
       "       [ 0.00830056,  0.00548154],\n",
       "       [ 0.01050438,  0.00739338],\n",
       "       [ 0.00842263,  0.0062298 ]])"
      ]
     },
     "execution_count": 428,
     "metadata": {},
     "output_type": "execute_result"
    }
   ],
   "source": [
    "X_im"
   ]
  },
  {
   "cell_type": "code",
   "execution_count": 429,
   "id": "0733b5e1",
   "metadata": {},
   "outputs": [],
   "source": [
    "import matplotlib.pyplot as plt\n",
    "import seaborn as sns\n",
    "import warnings\n",
    "\n",
    "def plot_scores_2d(data, colors, grid = True, dim_1 = 1, dim_2 = 2):\n",
    "    plt.style.use('seaborn-whitegrid')\n",
    "    fig = plt.figure(figsize=(15,10))\n",
    "    plt.axhline(c = 'black', alpha = 0.2)\n",
    "    plt.axvline(c = 'black', alpha = 0.2)\n",
    "    plt.scatter(data.T[dim_1 - 1,:], data.T[dim_2 - 1,:], c = colors)\n",
    "    plt.grid(grid)\n",
    "    plt.title('Spectral Projection')\n",
    "    plt.xlabel('{}st dimension'.format(dim_1))\n",
    "    plt.ylabel('{}nd dimension'.format(dim_2))\n",
    "    plt.show()"
   ]
  },
  {
   "cell_type": "code",
   "execution_count": 430,
   "id": "d71855d4",
   "metadata": {},
   "outputs": [
    {
     "data": {
      "image/png": "[encoded data removed]",
      "text/plain": [
       "<Figure size 1080x720 with 1 Axes>"
      ]
     },
     "metadata": {},
     "output_type": "display_data"
    }
   ],
   "source": [
    "plot_scores_2d(np.array(X_),colors)"
   ]
  },
  {
   "cell_type": "code",
   "execution_count": 32,
   "id": "93a49296",
   "metadata": {},
   "outputs": [
    {
     "data": {
      "text/plain": [
       "(1797, 2)"
      ]
     },
     "execution_count": 32,
     "metadata": {},
     "output_type": "execute_result"
    }
   ],
   "source": [
    ">>> from sklearn.datasets import load_digits\n",
    ">>> from sklearn.manifold import SpectralEmbedding\n",
    ">>> X, _ = load_digits(return_X_y=True)\n",
    ">>> X.shape\n",
    "(1797, 64)\n",
    ">>> embedding = SpectralEmbedding(n_components=2)\n",
    ">>> X_transformed = embedding.fit_transform(X)\n",
    ">>> X_transformed.shape"
   ]
  },
  {
   "cell_type": "code",
   "execution_count": 33,
   "id": "2d98350d",
   "metadata": {},
   "outputs": [
    {
     "data": {
      "text/plain": [
       "array([[ 4.01478344e-03, -2.09148890e-03],\n",
       "       [-1.01835315e-03,  1.26762334e-03],\n",
       "       [-1.07847176e-03,  8.51272305e-04],\n",
       "       ...,\n",
       "       [-7.94351044e-04,  9.30524958e-04],\n",
       "       [ 1.13736296e-04, -1.53286884e-03],\n",
       "       [-2.94861578e-05,  2.62299231e-04]])"
      ]
     },
     "execution_count": 33,
     "metadata": {},
     "output_type": "execute_result"
    }
   ],
   "source": [
    "X_transformed"
   ]
  },
  {
   "cell_type": "code",
   "execution_count": 34,
   "id": "2387011a",
   "metadata": {},
   "outputs": [],
   "source": [
    "colors = []\n",
    "X_im=X_transformed\n",
    "X_ = []\n",
    "X_t = []\n",
    "y_ = []\n",
    "for i in range(len(y)):\n",
    "    if y[i] == 1:\n",
    "        X_.append(X_im[i])\n",
    "        y_.append(1)\n",
    "        colors.append('#FFB300')\n",
    "    elif y[i] == 2:\n",
    "        X_.append(X_im[i])\n",
    "        y_.append(2)\n",
    "        colors.append('#E64A19')"
   ]
  },
  {
   "cell_type": "code",
   "execution_count": 35,
   "id": "8463daed",
   "metadata": {},
   "outputs": [
    {
     "data": {
      "image/png": "[encoded data removed]",
      "text/plain": [
       "<Figure size 1080x720 with 1 Axes>"
      ]
     },
     "metadata": {},
     "output_type": "display_data"
    }
   ],
   "source": [
    "plot_scores_2d(np.array(X_),colors)"
   ]
  },
  {
   "cell_type": "code",
   "execution_count": null,
   "id": "20b0e634",
   "metadata": {},
   "outputs": [],
   "source": []
  }
 ],
 "metadata": {
  "kernelspec": {
   "display_name": "Python 3 (ipykernel)",
   "language": "python",
   "name": "python3"
  },
  "language_info": {
   "codemirror_mode": {
    "name": "ipython",
    "version": 3
   },
   "file_extension": ".py",
   "mimetype": "text/x-python",
   "name": "python",
   "nbconvert_exporter": "python",
   "pygments_lexer": "ipython3",
   "version": "3.9.7"
  }
 },
 "nbformat": 4,
 "nbformat_minor": 5
}
