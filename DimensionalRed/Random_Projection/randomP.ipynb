{
 "cells": [
  {
   "cell_type": "markdown",
   "id": "7cf988d2",
   "metadata": {},
   "source": [
    "# Random Projection applied"
   ]
  },
  {
   "cell_type": "code",
   "execution_count": 1,
   "id": "28c8df34",
   "metadata": {},
   "outputs": [],
   "source": [
    "import numpy as np"
   ]
  },
  {
   "cell_type": "code",
   "execution_count": 2,
   "id": "a3eace21",
   "metadata": {},
   "outputs": [],
   "source": [
    "from randomP import RandomP\n",
    "        \n",
    "    "
   ]
  },
  {
   "cell_type": "markdown",
   "id": "43a44c73",
   "metadata": {},
   "source": [
    "# Embedding for iris dataset"
   ]
  },
  {
   "cell_type": "code",
   "execution_count": 3,
   "id": "675d4179",
   "metadata": {},
   "outputs": [],
   "source": [
    "from sklearn.datasets import load_iris\n",
    "data = load_iris()\n",
    "X,y = data['data'],data['target']"
   ]
  },
  {
   "cell_type": "code",
   "execution_count": 4,
   "id": "e3f4b4ea",
   "metadata": {},
   "outputs": [
    {
     "data": {
      "text/plain": [
       "(array([[5.1, 3.5, 1.4, 0.2],\n",
       "        [4.9, 3. , 1.4, 0.2],\n",
       "        [4.7, 3.2, 1.3, 0.2],\n",
       "        [4.6, 3.1, 1.5, 0.2],\n",
       "        [5. , 3.6, 1.4, 0.2],\n",
       "        [5.4, 3.9, 1.7, 0.4],\n",
       "        [4.6, 3.4, 1.4, 0.3],\n",
       "        [5. , 3.4, 1.5, 0.2],\n",
       "        [4.4, 2.9, 1.4, 0.2],\n",
       "        [4.9, 3.1, 1.5, 0.1],\n",
       "        [5.4, 3.7, 1.5, 0.2],\n",
       "        [4.8, 3.4, 1.6, 0.2],\n",
       "        [4.8, 3. , 1.4, 0.1],\n",
       "        [4.3, 3. , 1.1, 0.1],\n",
       "        [5.8, 4. , 1.2, 0.2],\n",
       "        [5.7, 4.4, 1.5, 0.4],\n",
       "        [5.4, 3.9, 1.3, 0.4],\n",
       "        [5.1, 3.5, 1.4, 0.3],\n",
       "        [5.7, 3.8, 1.7, 0.3],\n",
       "        [5.1, 3.8, 1.5, 0.3],\n",
       "        [5.4, 3.4, 1.7, 0.2],\n",
       "        [5.1, 3.7, 1.5, 0.4],\n",
       "        [4.6, 3.6, 1. , 0.2],\n",
       "        [5.1, 3.3, 1.7, 0.5],\n",
       "        [4.8, 3.4, 1.9, 0.2],\n",
       "        [5. , 3. , 1.6, 0.2],\n",
       "        [5. , 3.4, 1.6, 0.4],\n",
       "        [5.2, 3.5, 1.5, 0.2],\n",
       "        [5.2, 3.4, 1.4, 0.2],\n",
       "        [4.7, 3.2, 1.6, 0.2],\n",
       "        [4.8, 3.1, 1.6, 0.2],\n",
       "        [5.4, 3.4, 1.5, 0.4],\n",
       "        [5.2, 4.1, 1.5, 0.1],\n",
       "        [5.5, 4.2, 1.4, 0.2],\n",
       "        [4.9, 3.1, 1.5, 0.2],\n",
       "        [5. , 3.2, 1.2, 0.2],\n",
       "        [5.5, 3.5, 1.3, 0.2],\n",
       "        [4.9, 3.6, 1.4, 0.1],\n",
       "        [4.4, 3. , 1.3, 0.2],\n",
       "        [5.1, 3.4, 1.5, 0.2],\n",
       "        [5. , 3.5, 1.3, 0.3],\n",
       "        [4.5, 2.3, 1.3, 0.3],\n",
       "        [4.4, 3.2, 1.3, 0.2],\n",
       "        [5. , 3.5, 1.6, 0.6],\n",
       "        [5.1, 3.8, 1.9, 0.4],\n",
       "        [4.8, 3. , 1.4, 0.3],\n",
       "        [5.1, 3.8, 1.6, 0.2],\n",
       "        [4.6, 3.2, 1.4, 0.2],\n",
       "        [5.3, 3.7, 1.5, 0.2],\n",
       "        [5. , 3.3, 1.4, 0.2],\n",
       "        [7. , 3.2, 4.7, 1.4],\n",
       "        [6.4, 3.2, 4.5, 1.5],\n",
       "        [6.9, 3.1, 4.9, 1.5],\n",
       "        [5.5, 2.3, 4. , 1.3],\n",
       "        [6.5, 2.8, 4.6, 1.5],\n",
       "        [5.7, 2.8, 4.5, 1.3],\n",
       "        [6.3, 3.3, 4.7, 1.6],\n",
       "        [4.9, 2.4, 3.3, 1. ],\n",
       "        [6.6, 2.9, 4.6, 1.3],\n",
       "        [5.2, 2.7, 3.9, 1.4],\n",
       "        [5. , 2. , 3.5, 1. ],\n",
       "        [5.9, 3. , 4.2, 1.5],\n",
       "        [6. , 2.2, 4. , 1. ],\n",
       "        [6.1, 2.9, 4.7, 1.4],\n",
       "        [5.6, 2.9, 3.6, 1.3],\n",
       "        [6.7, 3.1, 4.4, 1.4],\n",
       "        [5.6, 3. , 4.5, 1.5],\n",
       "        [5.8, 2.7, 4.1, 1. ],\n",
       "        [6.2, 2.2, 4.5, 1.5],\n",
       "        [5.6, 2.5, 3.9, 1.1],\n",
       "        [5.9, 3.2, 4.8, 1.8],\n",
       "        [6.1, 2.8, 4. , 1.3],\n",
       "        [6.3, 2.5, 4.9, 1.5],\n",
       "        [6.1, 2.8, 4.7, 1.2],\n",
       "        [6.4, 2.9, 4.3, 1.3],\n",
       "        [6.6, 3. , 4.4, 1.4],\n",
       "        [6.8, 2.8, 4.8, 1.4],\n",
       "        [6.7, 3. , 5. , 1.7],\n",
       "        [6. , 2.9, 4.5, 1.5],\n",
       "        [5.7, 2.6, 3.5, 1. ],\n",
       "        [5.5, 2.4, 3.8, 1.1],\n",
       "        [5.5, 2.4, 3.7, 1. ],\n",
       "        [5.8, 2.7, 3.9, 1.2],\n",
       "        [6. , 2.7, 5.1, 1.6],\n",
       "        [5.4, 3. , 4.5, 1.5],\n",
       "        [6. , 3.4, 4.5, 1.6],\n",
       "        [6.7, 3.1, 4.7, 1.5],\n",
       "        [6.3, 2.3, 4.4, 1.3],\n",
       "        [5.6, 3. , 4.1, 1.3],\n",
       "        [5.5, 2.5, 4. , 1.3],\n",
       "        [5.5, 2.6, 4.4, 1.2],\n",
       "        [6.1, 3. , 4.6, 1.4],\n",
       "        [5.8, 2.6, 4. , 1.2],\n",
       "        [5. , 2.3, 3.3, 1. ],\n",
       "        [5.6, 2.7, 4.2, 1.3],\n",
       "        [5.7, 3. , 4.2, 1.2],\n",
       "        [5.7, 2.9, 4.2, 1.3],\n",
       "        [6.2, 2.9, 4.3, 1.3],\n",
       "        [5.1, 2.5, 3. , 1.1],\n",
       "        [5.7, 2.8, 4.1, 1.3],\n",
       "        [6.3, 3.3, 6. , 2.5],\n",
       "        [5.8, 2.7, 5.1, 1.9],\n",
       "        [7.1, 3. , 5.9, 2.1],\n",
       "        [6.3, 2.9, 5.6, 1.8],\n",
       "        [6.5, 3. , 5.8, 2.2],\n",
       "        [7.6, 3. , 6.6, 2.1],\n",
       "        [4.9, 2.5, 4.5, 1.7],\n",
       "        [7.3, 2.9, 6.3, 1.8],\n",
       "        [6.7, 2.5, 5.8, 1.8],\n",
       "        [7.2, 3.6, 6.1, 2.5],\n",
       "        [6.5, 3.2, 5.1, 2. ],\n",
       "        [6.4, 2.7, 5.3, 1.9],\n",
       "        [6.8, 3. , 5.5, 2.1],\n",
       "        [5.7, 2.5, 5. , 2. ],\n",
       "        [5.8, 2.8, 5.1, 2.4],\n",
       "        [6.4, 3.2, 5.3, 2.3],\n",
       "        [6.5, 3. , 5.5, 1.8],\n",
       "        [7.7, 3.8, 6.7, 2.2],\n",
       "        [7.7, 2.6, 6.9, 2.3],\n",
       "        [6. , 2.2, 5. , 1.5],\n",
       "        [6.9, 3.2, 5.7, 2.3],\n",
       "        [5.6, 2.8, 4.9, 2. ],\n",
       "        [7.7, 2.8, 6.7, 2. ],\n",
       "        [6.3, 2.7, 4.9, 1.8],\n",
       "        [6.7, 3.3, 5.7, 2.1],\n",
       "        [7.2, 3.2, 6. , 1.8],\n",
       "        [6.2, 2.8, 4.8, 1.8],\n",
       "        [6.1, 3. , 4.9, 1.8],\n",
       "        [6.4, 2.8, 5.6, 2.1],\n",
       "        [7.2, 3. , 5.8, 1.6],\n",
       "        [7.4, 2.8, 6.1, 1.9],\n",
       "        [7.9, 3.8, 6.4, 2. ],\n",
       "        [6.4, 2.8, 5.6, 2.2],\n",
       "        [6.3, 2.8, 5.1, 1.5],\n",
       "        [6.1, 2.6, 5.6, 1.4],\n",
       "        [7.7, 3. , 6.1, 2.3],\n",
       "        [6.3, 3.4, 5.6, 2.4],\n",
       "        [6.4, 3.1, 5.5, 1.8],\n",
       "        [6. , 3. , 4.8, 1.8],\n",
       "        [6.9, 3.1, 5.4, 2.1],\n",
       "        [6.7, 3.1, 5.6, 2.4],\n",
       "        [6.9, 3.1, 5.1, 2.3],\n",
       "        [5.8, 2.7, 5.1, 1.9],\n",
       "        [6.8, 3.2, 5.9, 2.3],\n",
       "        [6.7, 3.3, 5.7, 2.5],\n",
       "        [6.7, 3. , 5.2, 2.3],\n",
       "        [6.3, 2.5, 5. , 1.9],\n",
       "        [6.5, 3. , 5.2, 2. ],\n",
       "        [6.2, 3.4, 5.4, 2.3],\n",
       "        [5.9, 3. , 5.1, 1.8]]),\n",
       " array([0, 0, 0, 0, 0, 0, 0, 0, 0, 0, 0, 0, 0, 0, 0, 0, 0, 0, 0, 0, 0, 0,\n",
       "        0, 0, 0, 0, 0, 0, 0, 0, 0, 0, 0, 0, 0, 0, 0, 0, 0, 0, 0, 0, 0, 0,\n",
       "        0, 0, 0, 0, 0, 0, 1, 1, 1, 1, 1, 1, 1, 1, 1, 1, 1, 1, 1, 1, 1, 1,\n",
       "        1, 1, 1, 1, 1, 1, 1, 1, 1, 1, 1, 1, 1, 1, 1, 1, 1, 1, 1, 1, 1, 1,\n",
       "        1, 1, 1, 1, 1, 1, 1, 1, 1, 1, 1, 1, 2, 2, 2, 2, 2, 2, 2, 2, 2, 2,\n",
       "        2, 2, 2, 2, 2, 2, 2, 2, 2, 2, 2, 2, 2, 2, 2, 2, 2, 2, 2, 2, 2, 2,\n",
       "        2, 2, 2, 2, 2, 2, 2, 2, 2, 2, 2, 2, 2, 2, 2, 2, 2, 2]))"
      ]
     },
     "execution_count": 4,
     "metadata": {},
     "output_type": "execute_result"
    }
   ],
   "source": [
    "X,y"
   ]
  },
  {
   "cell_type": "code",
   "execution_count": 30,
   "id": "7cec8273",
   "metadata": {},
   "outputs": [
    {
     "name": "stdout",
     "output_type": "stream",
     "text": [
      "2\n"
     ]
    }
   ],
   "source": [
    "rP = RandomP(X,2)"
   ]
  },
  {
   "cell_type": "code",
   "execution_count": 31,
   "id": "683c6992",
   "metadata": {},
   "outputs": [],
   "source": [
    "#d = rP.estimate_dimension(0.5)"
   ]
  },
  {
   "cell_type": "code",
   "execution_count": 32,
   "id": "493d09a7",
   "metadata": {},
   "outputs": [],
   "source": [
    "#print(d)"
   ]
  },
  {
   "cell_type": "code",
   "execution_count": 33,
   "id": "6deaa4b5",
   "metadata": {},
   "outputs": [
    {
     "data": {
      "text/plain": [
       "array([[ 2.86726096e-01, -7.54568194e-01],\n",
       "       [ 1.64395265e-02, -5.83568724e-01],\n",
       "       [ 1.98111551e-01, -8.52009543e-01],\n",
       "       [ 4.25599450e-01, -7.73519436e-01],\n",
       "       [ 1.01602356e-01, -7.71014804e-01],\n",
       "       [ 4.76950765e-01, -7.71991797e-01],\n",
       "       [ 3.11135372e-01, -6.68355638e-01],\n",
       "       [ 2.60541253e-01, -8.88557122e-01],\n",
       "       [ 1.22023045e-01, -8.85172602e-01],\n",
       "       [-5.63461127e-02, -5.68984460e-01],\n",
       "       [ 2.93091562e-01, -6.44538094e-01],\n",
       "       [ 2.28865473e-01, -6.69841338e-01],\n",
       "       [ 3.02445935e-01, -7.41240217e-01],\n",
       "       [ 1.33331713e-01, -5.80170234e-01],\n",
       "       [ 2.57053377e-01, -5.41892501e-01],\n",
       "       [ 1.74749434e-01, -6.54683992e-01],\n",
       "       [ 2.00739815e-01, -4.88147310e-01],\n",
       "       [ 2.67031492e-01, -6.59767123e-01],\n",
       "       [ 1.92909756e-01, -6.65450915e-01],\n",
       "       [ 2.83049164e-01, -5.90220270e-01],\n",
       "       [ 2.35964555e-01, -6.02538274e-01],\n",
       "       [ 1.86563943e-01, -5.53186023e-01],\n",
       "       [ 6.74349023e-02, -5.80472117e-01],\n",
       "       [ 4.57001618e-01, -5.39183031e-01],\n",
       "       [ 4.66962567e-01, -5.14055678e-01],\n",
       "       [ 3.33859648e-01, -8.26727437e-01],\n",
       "       [ 2.95738172e-01, -6.87244587e-01],\n",
       "       [ 3.98753945e-01, -7.69015687e-01],\n",
       "       [ 9.51329134e-02, -7.08025757e-01],\n",
       "       [ 1.33531294e-01, -6.58533166e-01],\n",
       "       [ 3.00397460e-01, -6.45729699e-01],\n",
       "       [ 1.60165517e-01, -5.83963091e-01],\n",
       "       [ 4.42442360e-01, -5.11369946e-01],\n",
       "       [ 3.40583102e-01, -6.91876239e-01],\n",
       "       [ 2.70442763e-01, -6.34776562e-01],\n",
       "       [ 5.07734984e-01, -8.20166926e-01],\n",
       "       [ 4.15710495e-01, -6.81857247e-01],\n",
       "       [ 3.78026110e-01, -5.75905718e-01],\n",
       "       [ 2.93538139e-01, -5.27793031e-01],\n",
       "       [ 2.11916522e-01, -5.59806570e-01],\n",
       "       [ 3.59775080e-01, -6.62055544e-01],\n",
       "       [ 3.31099526e-01, -6.79718815e-01],\n",
       "       [ 2.60385054e-01, -6.50339640e-01],\n",
       "       [ 3.30753662e-01, -6.38493494e-01],\n",
       "       [ 4.86677733e-01, -7.19096190e-01],\n",
       "       [ 3.91565724e-01, -8.39697612e-01],\n",
       "       [ 1.35796147e-01, -5.48615471e-01],\n",
       "       [ 3.12777599e-01, -7.21336614e-01],\n",
       "       [ 3.82131327e-01, -7.08861850e-01],\n",
       "       [ 3.86404151e-01, -7.36036154e-01],\n",
       "       [ 2.75624855e-01, -5.59445210e-01],\n",
       "       [ 2.84275856e-01, -5.91622468e-01],\n",
       "       [ 2.51348098e-01, -5.32202529e-01],\n",
       "       [ 4.03700946e-01, -7.59460762e-01],\n",
       "       [ 4.72351232e-01, -8.19685668e-01],\n",
       "       [ 3.76802968e-01, -6.90715275e-01],\n",
       "       [ 4.16126911e-01, -7.62076737e-01],\n",
       "       [ 3.62991335e-01, -6.76393988e-01],\n",
       "       [ 5.03325968e-01, -7.42646700e-01],\n",
       "       [ 4.42557018e-01, -8.13245823e-01],\n",
       "       [ 5.45727309e-01, -7.62334343e-01],\n",
       "       [ 3.55745747e-01, -5.47860808e-01],\n",
       "       [ 5.08564623e-01, -8.31863486e-01],\n",
       "       [ 3.22470620e-01, -8.87436167e-01],\n",
       "       [ 5.38982427e-01, -7.98236949e-01],\n",
       "       [ 5.55452287e-01, -7.80211084e-01],\n",
       "       [ 2.65470356e-01, -5.42652141e-01],\n",
       "       [ 4.79033872e-01, -7.08864438e-01],\n",
       "       [ 4.25949999e-01, -7.74707502e-01],\n",
       "       [ 5.62343521e-01, -7.36847242e-01],\n",
       "       [ 2.48280718e-01, -6.14596660e-01],\n",
       "       [ 2.87811118e-01, -7.17539323e-01],\n",
       "       [ 3.74107493e-01, -7.81989592e-01],\n",
       "       [-9.88951273e-04, -5.68874094e-01],\n",
       "       [ 3.66113361e-01, -6.45271059e-01],\n",
       "       [ 2.44718341e-01, -6.51385266e-01],\n",
       "       [ 2.27432513e-01, -6.10355204e-01],\n",
       "       [ 4.02253052e-01, -7.47519566e-01],\n",
       "       [ 4.31480436e-01, -8.01730956e-01],\n",
       "       [ 1.09033855e-01, -4.97373732e-01],\n",
       "       [ 9.03088938e-02, -6.79265132e-01],\n",
       "       [ 1.97157478e-01, -6.60972880e-01],\n",
       "       [ 1.94417607e-01, -6.64452840e-01],\n",
       "       [ 1.55975084e-01, -6.98272108e-01],\n",
       "       [ 1.33572506e-01, -6.70347239e-01],\n",
       "       [ 2.10605315e-01, -7.57886947e-01],\n",
       "       [ 1.46972678e-01, -6.67906919e-01],\n",
       "       [ 2.81055547e-01, -6.72785071e-01],\n",
       "       [ 2.26759483e-01, -7.16051532e-01],\n",
       "       [ 1.62643152e-01, -6.44956403e-01],\n",
       "       [ 1.92361969e-01, -6.48106492e-01],\n",
       "       [ 1.16999152e-01, -6.70143133e-01],\n",
       "       [-7.23715867e-02, -5.95668797e-01],\n",
       "       [-7.03485576e-02, -5.94396842e-01],\n",
       "       [ 2.17883063e-01, -7.78478573e-01],\n",
       "       [ 7.62415027e-02, -6.98568527e-01],\n",
       "       [ 5.53396427e-02, -7.53941866e-01],\n",
       "       [ 1.56539402e-01, -8.74053603e-01],\n",
       "       [ 3.24989842e-01, -7.34854450e-01],\n",
       "       [ 3.20906375e-01, -6.90599319e-01],\n",
       "       [ 2.38505910e-01, -5.72749353e-01],\n",
       "       [ 2.66578156e-01, -7.01970760e-01],\n",
       "       [ 2.85949058e-01, -6.61944343e-01],\n",
       "       [ 3.65982087e-01, -5.38589064e-01],\n",
       "       [ 9.59355012e-02, -6.29905560e-01],\n",
       "       [ 2.63190372e-01, -6.47330583e-01],\n",
       "       [ 3.09696782e-01, -7.32645591e-01],\n",
       "       [ 1.65589455e-01, -7.22276651e-01],\n",
       "       [ 3.50489219e-01, -5.90138415e-01],\n",
       "       [ 2.52431634e-01, -7.06690308e-01],\n",
       "       [ 2.84642750e-01, -8.44256028e-01],\n",
       "       [ 2.44069465e-01, -6.64847542e-01],\n",
       "       [ 1.51613084e-01, -7.35041600e-01],\n",
       "       [ 1.29198631e-01, -6.26539405e-01],\n",
       "       [ 1.97443496e-01, -6.73703359e-01],\n",
       "       [ 2.44987572e-01, -8.38034500e-01],\n",
       "       [ 1.81445012e-01, -6.37707305e-01],\n",
       "       [ 2.65261682e-01, -8.29545348e-01],\n",
       "       [ 1.06857712e-01, -8.67209602e-01],\n",
       "       [ 1.79256232e-01, -9.01330900e-01],\n",
       "       [ 2.43329587e-01, -6.14684508e-01],\n",
       "       [ 2.45265090e-01, -6.24067797e-01],\n",
       "       [ 3.07611448e-01, -6.96175792e-01],\n",
       "       [ 2.01109377e-01, -5.80957578e-01],\n",
       "       [ 2.64633989e-01, -6.08979286e-01],\n",
       "       [ 1.12764929e-01, -4.49402845e-01],\n",
       "       [ 2.94924712e-01, -6.56725822e-01],\n",
       "       [ 2.74484461e-01, -6.98094097e-01],\n",
       "       [ 1.59675721e-01, -5.79689027e-01],\n",
       "       [ 3.18378018e-01, -6.47971909e-01],\n",
       "       [ 1.62842515e-01, -5.94885574e-01],\n",
       "       [ 2.16433049e-01, -8.07572173e-01],\n",
       "       [ 2.25406338e-01, -6.73912360e-01],\n",
       "       [ 9.65787409e-02, -7.01793615e-01],\n",
       "       [ 1.01776998e-01, -6.68456605e-01],\n",
       "       [ 2.41861951e-01, -6.31072949e-01],\n",
       "       [ 2.35401450e-01, -7.13385748e-01],\n",
       "       [ 1.72288072e-01, -8.58820019e-01],\n",
       "       [ 2.75401470e-01, -7.17861678e-01],\n",
       "       [ 2.08080305e-01, -6.92720654e-01],\n",
       "       [ 4.07222526e-01, -6.27991439e-01],\n",
       "       [ 1.90638694e-01, -5.71564177e-01],\n",
       "       [ 3.41699959e-01, -6.10658313e-01],\n",
       "       [ 3.59112224e-01, -5.83586493e-01],\n",
       "       [ 2.08830910e-01, -6.06990400e-01],\n",
       "       [ 4.67354474e-01, -5.89600186e-01],\n",
       "       [ 2.15248515e-01, -5.68856658e-01],\n",
       "       [ 3.54742668e-01, -7.36540314e-01],\n",
       "       [ 2.41935232e-01, -5.74277204e-01],\n",
       "       [ 1.22326207e-01, -5.32199631e-01],\n",
       "       [ 3.88048446e-01, -4.58834102e-01],\n",
       "       [ 3.01584845e-01, -6.13239138e-01],\n",
       "       [ 2.78871667e-01, -7.03523248e-01],\n",
       "       [ 4.01179915e-01, -7.41379953e-01],\n",
       "       [ 4.55703804e-01, -7.59451704e-01],\n",
       "       [ 4.38173011e-01, -6.46065243e-01],\n",
       "       [ 1.81353526e-01, -6.10002903e-01],\n",
       "       [ 4.15243826e-01, -6.42748753e-01],\n",
       "       [ 2.57323851e-01, -6.30989514e-01],\n",
       "       [ 2.77105035e-01, -6.71070730e-01],\n",
       "       [ 1.40123934e-01, -7.36666419e-01],\n",
       "       [ 1.60111793e-01, -8.14629675e-01],\n",
       "       [ 3.20539770e-01, -6.44800586e-01],\n",
       "       [ 1.76273215e-01, -6.33925853e-01],\n",
       "       [ 1.85630463e-01, -6.44279398e-01],\n",
       "       [ 5.28736507e-01, -7.46225616e-01],\n",
       "       [ 4.42842466e-01, -6.62866439e-01],\n",
       "       [ 2.49828714e-01, -8.71254896e-01],\n",
       "       [ 4.23865972e-01, -8.06850144e-01],\n",
       "       [ 5.06350504e-01, -6.55015996e-01],\n",
       "       [ 9.47907827e-02, -7.16671516e-01],\n",
       "       [ 1.49957561e-01, -7.18815691e-01],\n",
       "       [ 2.52624700e-01, -7.31415872e-01],\n",
       "       [ 1.34570234e-01, -6.45660154e-01],\n",
       "       [ 3.48528324e-01, -6.81393479e-01],\n",
       "       [ 2.74099563e-01, -7.67863422e-01],\n",
       "       [ 2.94376277e-01, -7.40693111e-01],\n",
       "       [ 2.95576116e-01, -6.80417948e-01],\n",
       "       [ 2.42194910e-01, -7.39572898e-01],\n",
       "       [ 2.67677527e-01, -7.37357399e-01],\n",
       "       [ 4.40253853e-01, -7.18264860e-01],\n",
       "       [ 4.52896073e-01, -7.45888482e-01],\n",
       "       [ 3.96650301e-01, -6.38995112e-01],\n",
       "       [ 3.82613728e-01, -6.86095231e-01],\n",
       "       [ 3.44510576e-01, -7.06567044e-01],\n",
       "       [ 3.38100517e-01, -8.49495046e-01],\n",
       "       [ 4.42422426e-01, -6.60746863e-01],\n",
       "       [ 3.79757315e-01, -6.33873309e-01],\n",
       "       [ 3.48752145e-01, -6.44386060e-01],\n",
       "       [ 3.39813601e-01, -6.76697486e-01],\n",
       "       [ 1.15204606e-01, -5.07738597e-01],\n",
       "       [ 3.79733487e-02, -6.17225236e-01],\n",
       "       [ 3.05301291e-01, -6.67398586e-01],\n",
       "       [ 3.26646164e-01, -8.13643257e-01],\n",
       "       [ 2.40265012e-01, -6.67144751e-01],\n",
       "       [ 2.60171562e-01, -7.74305423e-01],\n",
       "       [ 2.55183568e-01, -8.20415397e-01],\n",
       "       [ 2.26213784e-01, -7.81477091e-01],\n",
       "       [ 2.74733737e-01, -6.62971011e-01],\n",
       "       [ 3.59658698e-01, -6.65938449e-01],\n",
       "       [ 2.22064891e-01, -6.22326861e-01],\n",
       "       [ 2.51418100e-01, -5.42871435e-01],\n",
       "       [ 2.29477315e-01, -5.53944103e-01],\n",
       "       [ 2.13586651e-01, -7.10770747e-01],\n",
       "       [ 2.35565583e-01, -6.14266402e-01],\n",
       "       [ 1.57430641e-01, -6.05377307e-01],\n",
       "       [ 2.73282832e-01, -6.32595423e-01],\n",
       "       [ 2.33381712e-01, -5.64462300e-01],\n",
       "       [ 1.90379284e-01, -7.01386403e-01],\n",
       "       [ 2.59440285e-01, -5.80858522e-01],\n",
       "       [ 3.14050877e-01, -5.34655189e-01],\n",
       "       [ 3.96695028e-01, -6.08242857e-01],\n",
       "       [ 3.08959119e-01, -5.51771174e-01],\n",
       "       [ 2.89057774e-01, -4.08421889e-01],\n",
       "       [ 3.33088255e-01, -4.39073758e-01],\n",
       "       [ 1.78455149e-01, -4.52694875e-01],\n",
       "       [ 1.40770179e-01, -5.68782097e-01],\n",
       "       [ 2.25356766e-01, -5.21557838e-01],\n",
       "       [ 2.82229792e-01, -5.57638707e-01],\n",
       "       [ 2.86562847e-01, -5.23375785e-01],\n",
       "       [ 3.46837919e-01, -7.14643967e-01],\n",
       "       [ 1.86249633e-02, -6.60236306e-01],\n",
       "       [ 2.24819792e-01, -7.70158831e-01],\n",
       "       [ 2.56276457e-01, -7.80786711e-01],\n",
       "       [ 1.44347181e-01, -6.45971992e-01],\n",
       "       [ 1.40812784e-01, -7.59604315e-01],\n",
       "       [ 2.16347925e-01, -7.66286131e-01],\n",
       "       [ 6.47638570e-02, -6.28478070e-01],\n",
       "       [ 4.02124018e-01, -8.31415999e-01],\n",
       "       [ 2.43620692e-01, -8.15680374e-01],\n",
       "       [ 3.64092058e-01, -5.32909963e-01],\n",
       "       [ 3.64753944e-01, -5.30538464e-01],\n",
       "       [ 4.20315355e-01, -5.92511425e-01],\n",
       "       [ 3.25623345e-01, -6.06011466e-01],\n",
       "       [ 1.55753516e-01, -3.55052270e-01],\n",
       "       [ 3.33001241e-01, -5.53491220e-01],\n",
       "       [ 2.73394507e-01, -5.31947799e-01],\n",
       "       [ 4.34968353e-01, -5.49721457e-01],\n",
       "       [ 3.09234934e-01, -5.54737644e-01],\n",
       "       [ 3.22949636e-01, -5.36632347e-01],\n",
       "       [ 1.71663261e-01, -6.01797370e-01],\n",
       "       [ 1.52586014e-01, -5.87071433e-01],\n",
       "       [ 1.79591536e-01, -6.09208533e-01],\n",
       "       [ 2.69038521e-01, -5.91240901e-01],\n",
       "       [ 3.07996687e-01, -5.11251565e-01],\n",
       "       [ 2.02406944e-01, -5.77176161e-01],\n",
       "       [ 1.71150286e-01, -6.16735740e-01],\n",
       "       [ 3.53972317e-01, -5.85668969e-01],\n",
       "       [ 2.15452820e-01, -5.57031585e-01],\n",
       "       [ 1.40870094e-01, -5.11956192e-01],\n",
       "       [ 3.47152478e-01, -6.57422690e-01],\n",
       "       [ 2.94698826e-01, -7.24700521e-01],\n",
       "       [ 3.52640445e-01, -5.89603473e-01],\n",
       "       [ 2.46281030e-01, -5.46487151e-01],\n",
       "       [ 1.78022215e-01, -5.60899060e-01],\n",
       "       [ 3.81202912e-01, -8.04788714e-01],\n",
       "       [ 2.93763410e-01, -7.07668082e-01],\n",
       "       [ 2.98316121e-01, -5.89027444e-01],\n",
       "       [ 2.32934441e-01, -6.83705040e-01],\n",
       "       [ 9.54096403e-02, -4.96220195e-01],\n",
       "       [ 1.61575356e-01, -7.06729211e-01],\n",
       "       [ 2.59287993e-01, -6.78156045e-01],\n",
       "       [ 2.66651368e-01, -8.78162290e-01],\n",
       "       [ 2.23542146e-01, -8.01735923e-01],\n",
       "       [ 2.46425212e-01, -7.86976120e-01],\n",
       "       [ 3.42461790e-01, -8.00526006e-01],\n",
       "       [ 3.14967197e-01, -8.17334427e-01],\n",
       "       [ 1.80896971e-01, -7.94715553e-01],\n",
       "       [ 1.10294164e-01, -6.23960594e-01],\n",
       "       [ 2.63988712e-01, -9.19794343e-01],\n",
       "       [ 3.35695972e-01, -5.97460855e-01],\n",
       "       [ 2.62386403e-01, -6.07870910e-01],\n",
       "       [ 1.41203442e-01, -5.75191065e-01],\n",
       "       [ 2.02346614e-01, -5.88679321e-01],\n",
       "       [ 3.08035617e-01, -6.10235833e-01],\n",
       "       [ 3.32232340e-01, -5.95568765e-01],\n",
       "       [ 2.78435031e-01, -6.91901004e-01],\n",
       "       [ 1.74891104e-01, -5.38126589e-01],\n",
       "       [ 1.94203272e-01, -6.76064680e-01],\n",
       "       [ 2.50264937e-01, -5.75698229e-01],\n",
       "       [ 2.15451957e-01, -5.26326044e-01],\n",
       "       [ 9.75388338e-02, -5.41807197e-01],\n",
       "       [ 1.98634183e-01, -4.73158977e-01],\n",
       "       [ 1.68855827e-01, -5.32077773e-01],\n",
       "       [ 2.96259002e-01, -5.64927419e-01],\n",
       "       [ 2.65827206e-01, -5.58842647e-01],\n",
       "       [ 3.04825724e-01, -6.55956363e-01],\n",
       "       [ 2.35175905e-01, -5.52528586e-01],\n",
       "       [ 2.21507254e-01, -4.78145560e-01],\n",
       "       [ 2.21534119e-01, -5.93461715e-01],\n",
       "       [ 1.16860210e-01, -4.69670190e-01],\n",
       "       [ 2.18105989e-01, -4.65816384e-01],\n",
       "       [ 3.30692821e-02, -5.74474106e-01],\n",
       "       [ 2.88691834e-01, -4.58818046e-01],\n",
       "       [ 2.93944161e-01, -4.76227261e-01],\n",
       "       [ 2.12091238e-01, -5.19506343e-01],\n",
       "       [ 2.53819476e-01, -4.61874784e-01],\n",
       "       [ 2.33803738e-01, -4.46468047e-01],\n",
       "       [ 2.10657413e-01, -5.55875706e-01],\n",
       "       [ 1.40253105e-01, -5.14708493e-01],\n",
       "       [ 2.54045765e-01, -6.36348752e-01],\n",
       "       [ 4.55026571e-01, -5.62864986e-01],\n",
       "       [ 4.37739699e-01, -5.05949695e-01],\n",
       "       [ 5.02923077e-01, -4.27668556e-01],\n",
       "       [ 3.66217364e-01, -5.68855483e-01],\n",
       "       [ 2.25960639e-01, -5.49511699e-01],\n",
       "       [ 1.70245863e-01, -5.30509870e-01],\n",
       "       [ 2.46765646e-01, -6.61318603e-01],\n",
       "       [ 2.69648381e-01, -5.30592007e-01],\n",
       "       [ 4.34881158e-01, -6.31522119e-01],\n",
       "       [ 3.10077165e-01, -7.14112505e-01],\n",
       "       [ 5.40126638e-01, -7.09841832e-01],\n",
       "       [ 4.92758873e-01, -7.10068341e-01],\n",
       "       [ 4.14249399e-01, -5.56890970e-01],\n",
       "       [ 3.15802919e-01, -7.56300286e-01],\n",
       "       [ 3.41618396e-01, -6.61269133e-01],\n",
       "       [ 1.73404008e-01, -6.08259534e-01],\n",
       "       [ 4.63384053e-01, -7.15029288e-01],\n",
       "       [ 4.87553119e-01, -8.52801423e-01],\n",
       "       [ 4.27256564e-01, -6.56767879e-01],\n",
       "       [ 3.35891411e-01, -5.16147718e-01],\n",
       "       [ 3.67801428e-01, -4.78738192e-01],\n",
       "       [ 3.28107608e-01, -4.98764480e-01],\n",
       "       [ 4.58680009e-01, -5.33800848e-01],\n",
       "       [ 4.63057152e-01, -4.68290535e-01],\n",
       "       [ 2.31724804e-01, -5.19786272e-01],\n",
       "       [ 4.55084847e-01, -5.45889326e-01],\n",
       "       [ 4.41748089e-01, -5.48040037e-01],\n",
       "       [ 3.90902996e-01, -6.43747233e-01],\n",
       "       [ 3.99490935e-01, -5.15460944e-01],\n",
       "       [ 2.14673464e-01, -4.27165770e-01],\n",
       "       [ 1.71457350e-01, -5.48903673e-01],\n",
       "       [ 2.55743036e-01, -3.68478708e-01],\n",
       "       [ 1.04360708e-01, -3.49222105e-01],\n",
       "       [ 1.26129597e-01, -2.58852261e-01],\n",
       "       [ 2.65292063e-01, -4.24590461e-01],\n",
       "       [ 1.51260035e-01, -2.98626789e-01],\n",
       "       [ 2.31624971e-01, -3.08823382e-01],\n",
       "       [ 2.79746338e-01, -2.92699955e-01],\n",
       "       [ 2.15013525e-01, -3.70065057e-01],\n",
       "       [ 1.61793391e-01, -7.23205264e-01],\n",
       "       [ 2.00099318e-01, -5.93362126e-01],\n",
       "       [ 2.31884383e-01, -4.81557884e-01],\n",
       "       [ 3.30009349e-01, -6.55124157e-01],\n",
       "       [ 2.96177707e-01, -6.00691545e-01],\n",
       "       [ 2.26867058e-01, -5.95353549e-01],\n",
       "       [ 2.31162396e-01, -6.94354919e-01],\n",
       "       [ 3.26556696e-01, -7.70823439e-01],\n",
       "       [ 2.87334825e-01, -6.02289085e-01],\n",
       "       [ 3.54542344e-01, -5.99337537e-01],\n",
       "       [ 3.92394710e-01, -7.84589825e-01],\n",
       "       [ 3.98950617e-01, -5.21230857e-01],\n",
       "       [ 2.62206463e-01, -7.04359750e-01],\n",
       "       [ 2.99571071e-01, -7.19458908e-01],\n",
       "       [ 3.09370948e-01, -8.69394066e-01],\n",
       "       [ 3.57203786e-01, -4.69921036e-01],\n",
       "       [ 4.99653647e-01, -5.04615486e-01],\n",
       "       [ 3.06203470e-01, -5.37397571e-01],\n",
       "       [ 3.63466977e-01, -6.30337274e-01],\n",
       "       [ 4.11038501e-01, -7.97861579e-01],\n",
       "       [ 5.95895163e-02, -6.26643903e-01],\n",
       "       [ 2.50553311e-01, -7.81639762e-01],\n",
       "       [ 2.63493898e-02, -6.76573584e-01],\n",
       "       [ 2.57074138e-01, -8.00100935e-01],\n",
       "       [ 2.16761244e-01, -8.30616486e-01],\n",
       "       [ 2.34395202e-01, -8.31710562e-01],\n",
       "       [ 1.02029293e-01, -5.58021297e-01],\n",
       "       [ 2.25779304e-01, -7.59777736e-01],\n",
       "       [ 1.31214510e-01, -7.35408689e-01],\n",
       "       [ 1.01964527e-01, -5.34490823e-01],\n",
       "       [ 3.88447993e-01, -6.16698563e-01],\n",
       "       [ 3.31519681e-01, -4.66914043e-01],\n",
       "       [ 2.88380058e-01, -5.30054667e-01],\n",
       "       [ 2.51855958e-01, -6.13459935e-01],\n",
       "       [ 2.65592723e-01, -5.78720305e-01],\n",
       "       [ 2.86242995e-01, -5.79981268e-01],\n",
       "       [ 3.35149596e-01, -5.30508842e-01],\n",
       "       [ 2.21318663e-01, -4.90355421e-01],\n",
       "       [ 2.96129705e-01, -6.47153746e-01],\n",
       "       [ 2.55476857e-01, -5.49989031e-01],\n",
       "       [ 6.40412414e-02, -5.01418032e-01],\n",
       "       [-5.27156471e-04, -4.67638800e-01],\n",
       "       [ 1.18013482e-01, -4.31179000e-01],\n",
       "       [ 4.85289955e-02, -4.57064817e-01],\n",
       "       [ 1.79691311e-01, -5.03516947e-01],\n",
       "       [ 9.37466045e-02, -4.65069709e-01],\n",
       "       [ 3.38400990e-02, -5.32955547e-01],\n",
       "       [ 1.43100401e-01, -5.60928683e-01],\n",
       "       [ 1.51967208e-01, -4.76093569e-01],\n",
       "       [ 3.43947246e-02, -4.82686782e-01],\n",
       "       [ 1.10692318e-01, -7.78612233e-01],\n",
       "       [ 3.37423266e-01, -7.13014545e-01],\n",
       "       [ 2.35904664e-01, -6.35826918e-01],\n",
       "       [ 1.81714881e-01, -5.00984937e-01],\n",
       "       [ 3.62770415e-01, -6.81216035e-01],\n",
       "       [ 1.81590848e-01, -6.86581937e-01],\n",
       "       [ 2.97790524e-01, -7.18855900e-01],\n",
       "       [ 1.31197851e-01, -6.89760642e-01],\n",
       "       [ 4.10867614e-01, -7.14064374e-01],\n",
       "       [ 1.43417982e-01, -5.27695712e-01]])"
      ]
     },
     "execution_count": 33,
     "metadata": {},
     "output_type": "execute_result"
    }
   ],
   "source": [
    "rp = rP.project()\n",
    "rp"
   ]
  },
  {
   "cell_type": "code",
   "execution_count": 9,
   "id": "c06b34ab",
   "metadata": {},
   "outputs": [
    {
     "data": {
      "text/plain": [
       "2"
      ]
     },
     "execution_count": 9,
     "metadata": {},
     "output_type": "execute_result"
    }
   ],
   "source": [
    "len(rp[0])"
   ]
  },
  {
   "cell_type": "code",
   "execution_count": 10,
   "id": "23e22f19",
   "metadata": {},
   "outputs": [],
   "source": [
    "import matplotlib.pyplot as plt\n",
    "import seaborn as sns\n",
    "import warnings\n",
    "\n",
    "def plot_scores_2d(data, colors, grid = True, dim_1 = 1, dim_2 = 2):\n",
    "    plt.style.use('seaborn-whitegrid')\n",
    "    fig = plt.figure(figsize=(15,10))\n",
    "    plt.axhline(c = 'black', alpha = 0.2)\n",
    "    plt.axvline(c = 'black', alpha = 0.2)\n",
    "    plt.scatter(data.T[dim_1 - 1,:], data.T[dim_2 - 1,:], c = colors)\n",
    "    plt.grid(grid)\n",
    "    plt.title('Random Projection')\n",
    "    plt.xlabel('{}st dimension'.format(dim_1))\n",
    "    plt.ylabel('{}nd dimension'.format(dim_2))\n",
    "    plt.show()"
   ]
  },
  {
   "cell_type": "code",
   "execution_count": 11,
   "id": "e471cf7c",
   "metadata": {},
   "outputs": [],
   "source": [
    "colors = []\n",
    "for i in range(len(y)):\n",
    "    if y[i] == 1:\n",
    "        colors.append('#FFB300')\n",
    "    elif y[i] == 2:\n",
    "        colors.append('#E64A19')\n",
    "    else:\n",
    "        colors.append('#00FF00')"
   ]
  },
  {
   "cell_type": "code",
   "execution_count": 12,
   "id": "4b6342df",
   "metadata": {},
   "outputs": [
    {
     "data": {
      "image/png": "[encoded data removed]",
      "text/plain": [
       "<Figure size 1080x720 with 1 Axes>"
      ]
     },
     "metadata": {},
     "output_type": "display_data"
    },
    {
     "data": {
      "image/png": "[encoded data removed]",
      "text/plain": [
       "<Figure size 1080x720 with 1 Axes>"
      ]
     },
     "metadata": {},
     "output_type": "display_data"
    }
   ],
   "source": [
    "plot_scores_2d(rp,colors = colors)\n",
    "plot_scores_2d(X,colors = colors)"
   ]
  },
  {
   "cell_type": "code",
   "execution_count": 13,
   "id": "845ef3bd",
   "metadata": {},
   "outputs": [
    {
     "data": {
      "text/plain": [
       "240"
      ]
     },
     "execution_count": 13,
     "metadata": {},
     "output_type": "execute_result"
    }
   ],
   "source": [
    "from sklearn.random_projection import johnson_lindenstrauss_min_dim\n",
    "johnson_lindenstrauss_min_dim(n_samples=len(X), eps=0.5)"
   ]
  },
  {
   "cell_type": "code",
   "execution_count": 14,
   "id": "3778d1d0",
   "metadata": {},
   "outputs": [],
   "source": [
    "from sklearn import random_projection\n",
    "transformer = random_projection.GaussianRandomProjection(2)\n",
    "X_new = transformer.fit_transform(X)"
   ]
  },
  {
   "cell_type": "code",
   "execution_count": 15,
   "id": "543c4999",
   "metadata": {},
   "outputs": [
    {
     "data": {
      "image/png": "[encoded data removed]",
      "text/plain": [
       "<Figure size 1080x720 with 1 Axes>"
      ]
     },
     "metadata": {},
     "output_type": "display_data"
    }
   ],
   "source": [
    "plot_scores_2d(X_new,colors = colors)"
   ]
  },
  {
   "cell_type": "code",
   "execution_count": 16,
   "id": "242d9ffa",
   "metadata": {},
   "outputs": [],
   "source": [
    "# from sklearn.datasets import load_digits\n",
    "\n",
    "# digits = load_digits()"
   ]
  },
  {
   "cell_type": "code",
   "execution_count": 17,
   "id": "778770fe",
   "metadata": {},
   "outputs": [],
   "source": [
    "# digits['data'],len(digits['target'])"
   ]
  },
  {
   "cell_type": "code",
   "execution_count": 18,
   "id": "41807bdd",
   "metadata": {},
   "outputs": [],
   "source": [
    "# len(digits['data'][0])"
   ]
  },
  {
   "cell_type": "markdown",
   "id": "353677c5",
   "metadata": {},
   "source": [
    "# Embedding for Olivetti Faces Datasets"
   ]
  },
  {
   "cell_type": "code",
   "execution_count": 19,
   "id": "f1d3dd6b",
   "metadata": {},
   "outputs": [
    {
     "name": "stderr",
     "output_type": "stream",
     "text": [
      "C:\\Users\\acer\\anaconda3\\lib\\site-packages\\sklearn\\utils\\validation.py:70: FutureWarning: Pass data_home=data/ as keyword args. From version 1.0 (renaming of 0.25) passing these as positional arguments will result in an error\n",
      "  warnings.warn(f\"Pass {args_msg} as keyword args. From version \"\n"
     ]
    }
   ],
   "source": [
    "from sklearn.datasets import fetch_olivetti_faces\n",
    "\n",
    "faces = fetch_olivetti_faces('data/')"
   ]
  },
  {
   "cell_type": "code",
   "execution_count": 20,
   "id": "b06fadc2",
   "metadata": {},
   "outputs": [
    {
     "data": {
      "text/plain": [
       "163"
      ]
     },
     "execution_count": 20,
     "metadata": {},
     "output_type": "execute_result"
    }
   ],
   "source": [
    "johnson_lindenstrauss_min_dim(n_samples=30, eps=0.5)"
   ]
  },
  {
   "cell_type": "code",
   "execution_count": 21,
   "id": "28e2716f",
   "metadata": {},
   "outputs": [],
   "source": [
    "X,y = faces['data'],faces['target']"
   ]
  },
  {
   "cell_type": "code",
   "execution_count": 22,
   "id": "2acdcd99",
   "metadata": {},
   "outputs": [
    {
     "data": {
      "text/plain": [
       "((400, 4096), (400,))"
      ]
     },
     "execution_count": 22,
     "metadata": {},
     "output_type": "execute_result"
    }
   ],
   "source": [
    "X.shape,y.shape"
   ]
  },
  {
   "cell_type": "code",
   "execution_count": 23,
   "id": "89696262",
   "metadata": {},
   "outputs": [],
   "source": [
    "faces_3,labels_3 = X[:30],y[:30]"
   ]
  },
  {
   "cell_type": "code",
   "execution_count": 24,
   "id": "f2da742f",
   "metadata": {},
   "outputs": [
    {
     "name": "stdout",
     "output_type": "stream",
     "text": [
      "195\n"
     ]
    }
   ],
   "source": [
    "rProj = RandomP(faces_3)\n",
    "projected = rProj.project()"
   ]
  },
  {
   "cell_type": "code",
   "execution_count": 25,
   "id": "b5186d3c",
   "metadata": {},
   "outputs": [],
   "source": [
    "colors = []\n",
    "for i in range(len(labels_3)):\n",
    "    if labels_3[i] == 1:\n",
    "        colors.append('#FFB300')\n",
    "    elif labels_3[i] == 2:\n",
    "        colors.append('#E64A19')\n",
    "    else:\n",
    "        colors.append('#00FF00')"
   ]
  },
  {
   "cell_type": "code",
   "execution_count": 26,
   "id": "6155eee4",
   "metadata": {},
   "outputs": [
    {
     "data": {
      "image/png": "[encoded data removed]",
      "text/plain": [
       "<Figure size 1080x720 with 1 Axes>"
      ]
     },
     "metadata": {},
     "output_type": "display_data"
    }
   ],
   "source": [
    "plot_scores_2d(projected,colors = colors)"
   ]
  },
  {
   "cell_type": "code",
   "execution_count": 27,
   "id": "34b76b1c",
   "metadata": {},
   "outputs": [],
   "source": [
    "from sklearn import random_projection\n",
    "transformer = random_projection.GaussianRandomProjection()\n",
    "X_new = transformer.fit_transform(faces_3)"
   ]
  },
  {
   "cell_type": "code",
   "execution_count": 28,
   "id": "5634aad5",
   "metadata": {},
   "outputs": [
    {
     "data": {
      "image/png": "[encoded data removed]",
      "text/plain": [
       "<Figure size 1080x720 with 1 Axes>"
      ]
     },
     "metadata": {},
     "output_type": "display_data"
    }
   ],
   "source": [
    "plot_scores_2d(X_new,colors = colors)"
   ]
  },
  {
   "cell_type": "code",
   "execution_count": null,
   "id": "e2b18935",
   "metadata": {},
   "outputs": [],
   "source": []
  }
 ],
 "metadata": {
  "kernelspec": {
   "display_name": "Python 3 (ipykernel)",
   "language": "python",
   "name": "python3"
  },
  "language_info": {
   "codemirror_mode": {
    "name": "ipython",
    "version": 3
   },
   "file_extension": ".py",
   "mimetype": "text/x-python",
   "name": "python",
   "nbconvert_exporter": "python",
   "pygments_lexer": "ipython3",
   "version": "3.9.7"
  }
 },
 "nbformat": 4,
 "nbformat_minor": 5
}
